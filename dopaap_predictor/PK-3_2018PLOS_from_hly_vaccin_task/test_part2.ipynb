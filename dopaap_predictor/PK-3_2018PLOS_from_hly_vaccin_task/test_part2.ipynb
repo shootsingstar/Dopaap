{
 "cells": [
  {
   "cell_type": "code",
   "execution_count": 1,
   "metadata": {},
   "outputs": [
    {
     "data": {
      "image/png": "[encoded data removed]",
      "text/plain": [
       "<Figure size 600x100 with 1 Axes>"
      ]
     },
     "metadata": {},
     "output_type": "display_data"
    }
   ],
   "source": [
    "import os, warnings\n",
    "warnings.filterwarnings('ignore')\n",
    "os.environ['TF_CPP_MIN_LOG_LEVEL'] = '3'\n",
    "os.environ['CUDA_VISIBLE_DEVICES'] = '0'\n",
    "\n",
    "import tensorflow as tf\n",
    "import gc\n",
    "import tensorflow.keras.backend as K\n",
    "\n",
    "gpus = tf.config.experimental.list_physical_devices(device_type='GPU')\n",
    "for gpu in gpus:\n",
    "    tf.config.experimental.set_memory_growth(gpu, True)\n",
    "\n",
    "import pandas as pd\n",
    "from pandas import Series\n",
    "import numpy as np\n",
    "from joblib import Parallel, delayed\n",
    "from tqdm.auto import tqdm\n",
    "from sklearn.model_selection import StratifiedKFold\n",
    "from sklearn.model_selection import KFold\n",
    "import molmap.model\n",
    "\n",
    "import matplotlib.pyplot as plt\n",
    "import seaborn as sns\n",
    "color = sns.color_palette(\"rainbow_r\", 6) #PiYG\n",
    "sns.palplot(color)\n",
    "\n",
    "from joblib import load, dump\n",
    "import sklearn.metrics\n",
    "import scipy\n",
    "import logging\n",
    "\n",
    "def r2_score(y_true,y_pred):\n",
    "    y_mean = np.mean(y_true)\n",
    "    r2 = 1-sum((y_true-y_pred)**2)/sum((y_mean-y_true)**2)\n",
    "    return r2\n",
    "def PCC(y_pred,y_true):\n",
    "    diff_pred,diff_true=y_pred-np.mean(y_pred),y_true-np.mean(y_true)\n",
    "    return np.sum(diff_pred*diff_true)/np.sqrt(np.sum(diff_pred**2)*np.sum(diff_true**2))\n",
    "\n",
    "def from_ic50(ic50, max_ic50=50000.0):\n",
    "    x = 1.0 - (np.log(np.maximum(ic50, 1e-12)) / np.log(max_ic50))\n",
    "    return np.minimum(\n",
    "        1.0,\n",
    "        np.maximum(0.0, x))\n",
    "def to_ic50(x, max_ic50=50000.0):\n",
    "    return max_ic50 ** (1.0 - x)\n",
    "sample_weight=None,\n",
    "threshold_nm=500,\n",
    "max_ic50=50000"
   ]
  },
  {
   "attachments": {},
   "cell_type": "markdown",
   "metadata": {},
   "source": [
    "读取 blosum62 matrix + pam250 matrix"
   ]
  },
  {
   "cell_type": "code",
   "execution_count": 2,
   "metadata": {},
   "outputs": [],
   "source": [
    "blosum62 = pd.read_csv('/mnt/zt/Dopaap/dopaap_predictor/blosum_pam_data/BLOSUM62.txt', sep='\\s')\n",
    "blosum62 = blosum62.iloc[:-4,:-4]\n",
    "\n",
    "pam250 = pd.read_csv('/mnt/zt/Dopaap/dopaap_predictor/blosum_pam_data/PAM250.csv',index_col=0)"
   ]
  },
  {
   "attachments": {},
   "cell_type": "markdown",
   "metadata": {},
   "source": [
    "将 blosum62 matrix 以及 pam250 mutation matrix 标准化到 0~1"
   ]
  },
  {
   "cell_type": "code",
   "execution_count": 3,
   "metadata": {},
   "outputs": [],
   "source": [
    "# aapro归一化\n",
    "PCP = pd.read_csv('/mnt/zt/Dopaap/dopaap_predictor/cal_CTD/CTD_61.csv', index_col='properties').index\n",
    "AApro_dic = pd.read_csv('/mnt/zt/Dopaap/dopaap_predictor/umap/single_index/AApro_UMAP.csv', header=0,index_col=0)\n",
    "AA_pro = AApro_dic.loc[PCP].astype('float')\n",
    "AA_pro = AA_pro.T\n",
    "AA_pro = ((AA_pro - AA_pro.min()) / (AA_pro.max() - AA_pro.min())).T #归一化"
   ]
  },
  {
   "attachments": {},
   "cell_type": "markdown",
   "metadata": {},
   "source": [
    "序列相关 aapro,blosum62,pam250 距离矩阵的生成与拼接"
   ]
  },
  {
   "cell_type": "code",
   "execution_count": 4,
   "metadata": {},
   "outputs": [],
   "source": [
    "def get_3d_feat(seq):\n",
    "    n = len(seq)\n",
    "\n",
    "    # 生成理化性质矩阵\n",
    "    seq_pro = pd.DataFrame(AA_pro[aa] for aa in seq).T\n",
    "    seq_pro = seq_pro.values[:, :, None]  #二维变成三维（61， n， 1）\n",
    "    ## 相乘\n",
    "    mt_pro = np.transpose((seq_pro * np.transpose(seq_pro, [0, 2, 1])), [1, 2, 0])  #**.5   #here!! **0.25\n",
    "    ## transpose三维转置。（61，n，1）*（61，1，n）=（61，n，n），再转置成（n，n，61）.\n",
    "\n",
    "    # 生成blosum矩阵\n",
    "    seq_blosum = np.ones((n,n))\n",
    "    for i in range(n):\n",
    "        a = seq[i]\n",
    "        for j in range(n):\n",
    "            b = seq[j]\n",
    "            seq_blosum[i][j] = blosum62.loc[a,b]\n",
    "    seq_blosum_nor = ((seq_blosum - seq_blosum.min()) / (seq_blosum.max() - seq_blosum.min()))\n",
    "    seq_blosum_nor = seq_blosum_nor[:, :, np.newaxis]  ##（n，n，1）\n",
    "\n",
    "    # 生成pam矩阵\n",
    "    seq_pam = np.ones((n,n))\n",
    "    for i in range(n):\n",
    "        a = seq[i]\n",
    "        for j in range(n):\n",
    "            b = seq[j]\n",
    "            seq_pam[i][j] = pam250.loc[a,b]\n",
    "    seq_pam_nor = ((seq_pam - seq_pam.min()) / (seq_pam.max() - seq_pam.min()))\n",
    "    seq_pam_nor = seq_pam_nor[:, :, np.newaxis]  ##（n，n，1）\n",
    "\n",
    "    # 生成序列距离矩阵\n",
    "    pt_dis = np.ones((n,n))\n",
    "    for i in range(n):\n",
    "        for j in range(n):\n",
    "            pt_dis[i][j] = abs(i-j)\n",
    "    pt_dis = ((pt_dis - 0) / (n-1 - 0)) ## 归一化（最小值为0，最大值为n-1）\n",
    "    pt_dis = pt_dis[:, :, np.newaxis]  ##（n，n，1）\n",
    "\n",
    "    # 改变 理化性质矩阵 的下半部分\n",
    "    for k in range(mt_pro.shape[2]):\n",
    "        for i in range(n):\n",
    "            for j in range(i):\n",
    "                if k < 60:                                      ##here\n",
    "                    mt_pro[i,j,k] = (mt_pro[j,i,k] * mt_pro[j,i,k+1])**.5\n",
    "                else:\n",
    "                    mt_pro[i,j,k] = (mt_pro[j,i,k] * mt_pro[j,i,0])**.5\n",
    "\n",
    "    # 将序列距离矩阵与mt合并，并放在第一层\n",
    "    mt = np.concatenate((pt_dis,seq_blosum_nor,seq_pam_nor,mt_pro),axis = 2)\n",
    "\n",
    "    x = np.pad(mt, [(0, max_seq_len-n), (0, max_seq_len-n), (0, 0)]) #填充0.令数据集中每条序列对应的Xshape相同。\n",
    "\n",
    "    return x[ :, :, :, None]"
   ]
  },
  {
   "cell_type": "code",
   "execution_count": 5,
   "metadata": {},
   "outputs": [],
   "source": [
    "class Inception(tf.keras.layers.Layer):\n",
    "\n",
    "    def __init__(self, units = 8, strides = 1):\n",
    "        super(Inception, self).__init__()\n",
    "        self.conv1 = tf.keras.layers.Conv3D(units, (1,1,1), padding='same', activation = 'relu', strides = strides,kernel_regularizer=tf.keras.regularizers.l2(lamda),\n",
    "  bias_regularizer=tf.keras.regularizers.l1(lamda), activity_regularizer=tf.keras.regularizers.l2(lamda))\n",
    "        self.conv2 = tf.keras.layers.Conv3D(units, (3,3,3), padding='same', activation = 'relu', strides = strides,kernel_regularizer=tf.keras.regularizers.l2(lamda),\n",
    "  bias_regularizer=tf.keras.regularizers.l1(lamda), activity_regularizer=tf.keras.regularizers.l2(lamda))\n",
    "        self.conv3 = tf.keras.layers.Conv3D(units, (5,5,5), padding='same', activation = 'relu', strides = strides,kernel_regularizer=tf.keras.regularizers.l2(lamda),\n",
    "  bias_regularizer=tf.keras.regularizers.l1(lamda), activity_regularizer=tf.keras.regularizers.l2(lamda))\n",
    "        self.concat = tf.keras.layers.Concatenate()\n",
    "\n",
    "    def call(self, inputs):\n",
    "        x1 = self.conv1(inputs)\n",
    "        x2 = self.conv2(inputs)\n",
    "        x3 = self.conv3(inputs)\n",
    "        outputs = self.concat([x1, x2, x3])\n",
    "        return outputs\n",
    "\n",
    "    def get_config(self): \n",
    "        config = {\"conv1\": self.conv1,\"conv2\":self.conv2,'conv3':self.conv3}\n",
    "        base_config = super(Inception, self).get_config()\n",
    "        return dict(list(base_config.items()) + list(config.items()))\n"
   ]
  },
  {
   "cell_type": "code",
   "execution_count": 6,
   "metadata": {},
   "outputs": [],
   "source": [
    "class Model_1(tf.keras.Model):\n",
    "    def __init__(self):\n",
    "            super().__init__()\n",
    "            \n",
    "            self.Cov_1 = tf.keras.layers.Conv3D(kn_1, ks_fir, activation='relu', padding='same',kernel_regularizer=tf.keras.regularizers.l2(lamda),\n",
    "    bias_regularizer=tf.keras.regularizers.l1(lamda), activity_regularizer=tf.keras.regularizers.l2(lamda))\n",
    "            self.MaxPool_1 = tf.keras.layers.MaxPool3D() #pool_size = (2,2,2)\n",
    "    #         #here\n",
    "    #         tf.keras.layers.Conv3D(kn_1, (5,5,5), activation='relu', padding='same',kernel_regularizer=tf.keras.regularizers.l2(lamda),\n",
    "    # bias_regularizer=tf.keras.regularizers.l1(lamda), activity_regularizer=tf.keras.regularizers.l2(lamda)),\n",
    "    #         tf.keras.layers.MaxPool3D(), #pool_size = (2,2,2)\n",
    "    #         #here\n",
    "            self.Cov_2 =Inception(units=kn_2, strides=1)\n",
    "            self.MaxPool_2 = tf.keras.layers.MaxPool3D()\n",
    "            self.Cov_3 = Inception(units=kn_3, strides=1)\n",
    "            self.GlobalMaxPool = tf.keras.layers.GlobalMaxPooling3D()         #tf.keras.layers.Flatten(),\n",
    "            self.Dense_1 = tf.keras.layers.Dense(128, activation='relu')\n",
    "            self.Dense_2 =tf.keras.layers.Dense(32, activation='relu')\n",
    "            self.Dense_3 =tf.keras.layers.Dense(1)\n",
    "    \n",
    "    def call(self, input):\n",
    "            x = self.Cov_1(input)\n",
    "            x = self.MaxPool_1(x)\n",
    "            x = self.Cov_2(x) \n",
    "            x = self.MaxPool_2(x)\n",
    "            x = self.Cov_3(x)\n",
    "            x = self.GlobalMaxPool(x)\n",
    "            x = self.Dense_1(x)\n",
    "            x = self.Dense_2(x)\n",
    "            x = self.Dense_3(x)\n",
    "            return x"
   ]
  },
  {
   "cell_type": "code",
   "execution_count": 7,
   "metadata": {},
   "outputs": [],
   "source": [
    "class Model_2(tf.keras.Model):\n",
    "    def __init__(self):\n",
    "            super().__init__()\n",
    "            \n",
    "            self.Cov_1 = tf.keras.layers.Conv3D(kn_1, ks_fir, activation='relu', padding='same',kernel_regularizer=tf.keras.regularizers.l2(lamda),\n",
    "    bias_regularizer=tf.keras.regularizers.l1(lamda), activity_regularizer=tf.keras.regularizers.l2(lamda))\n",
    "            self.MaxPool_1 = tf.keras.layers.MaxPool3D() #pool_size = (2,2,2)\n",
    "            #here\n",
    "            self.Cov_2 = tf.keras.layers.Conv3D(kn_1, (5,5,5), activation='relu', padding='same',kernel_regularizer=tf.keras.regularizers.l2(lamda),\n",
    "    bias_regularizer=tf.keras.regularizers.l1(lamda), activity_regularizer=tf.keras.regularizers.l2(lamda))\n",
    "            self.MaxPool_2 = tf.keras.layers.MaxPool3D() #pool_size = (2,2,2)\n",
    "            #here\n",
    "            self.Cov_3 =Inception(units=kn_2, strides=1)\n",
    "            self.MaxPool_3 = tf.keras.layers.MaxPool3D()\n",
    "            self.Cov_4 = Inception(units=kn_3, strides=1)\n",
    "            self.GlobalMaxPool = tf.keras.layers.GlobalMaxPooling3D()         #tf.keras.layers.Flatten(),\n",
    "            self.Dense_1 = tf.keras.layers.Dense(128, activation='relu')\n",
    "            self.Dense_2 =tf.keras.layers.Dense(32, activation='relu')\n",
    "            self.Dense_3 =tf.keras.layers.Dense(1)\n",
    "            \n",
    "    \n",
    "    def call(self, input):\n",
    "            x = self.Cov_1(input)\n",
    "            x = self.MaxPool_1(x)\n",
    "            #here\n",
    "            x = self.Cov_2(x)\n",
    "            x = self.MaxPool_2(x)\n",
    "            #here\n",
    "            x = self.Cov_3(x) \n",
    "            x = self.MaxPool_3(x)\n",
    "            x = self.Cov_4(x)\n",
    "            x = self.GlobalMaxPool(x)\n",
    "            x = self.Dense_1(x)\n",
    "            x = self.Dense_2(x)\n",
    "            x = self.Dense_3(x)\n",
    "            return x"
   ]
  },
  {
   "attachments": {},
   "cell_type": "markdown",
   "metadata": {},
   "source": [
    "从MHCflurry训练验证集提取出可使用的数据集。allele['HLA-B_2704','HLA-B_2706','HLA-B_3801']"
   ]
  },
  {
   "attachments": {},
   "cell_type": "markdown",
   "metadata": {},
   "source": [
    "训练模型"
   ]
  },
  {
   "cell_type": "code",
   "execution_count": 9,
   "metadata": {},
   "outputs": [
    {
     "name": "stdout",
     "output_type": "stream",
     "text": [
      "HLA-A_0202 is processing...\n",
      "HLA-A_0202 is starting...\n",
      "5/5 [==============================] - 0s 4ms/step\n",
      "HLA-A_0202 is over...\n",
      "HLA-A_0206 is processing...\n",
      "HLA-A_0206 is starting...\n"
     ]
    },
    {
     "ename": "ValueError",
     "evalue": "Cannot assign value to variable ' dense_9/kernel:0': Shape mismatch.The variable shape (192, 128), and the assigned value shape (192, 512) are incompatible.",
     "output_type": "error",
     "traceback": [
      "\u001b[0;31m---------------------------------------------------------------------------\u001b[0m",
      "\u001b[0;31mValueError\u001b[0m                                Traceback (most recent call last)",
      "\u001b[0;32m/tmp/ipykernel_2940333/3283014106.py\u001b[0m in \u001b[0;36m<module>\u001b[0;34m\u001b[0m\n\u001b[1;32m     74\u001b[0m     \u001b[0mX\u001b[0m \u001b[0;34m=\u001b[0m \u001b[0mload\u001b[0m\u001b[0;34m(\u001b[0m\u001b[0mX_test_name\u001b[0m\u001b[0;34m)\u001b[0m\u001b[0;34m\u001b[0m\u001b[0;34m\u001b[0m\u001b[0m\n\u001b[1;32m     75\u001b[0m     \u001b[0mmodel\u001b[0m\u001b[0;34m.\u001b[0m\u001b[0mbuild\u001b[0m\u001b[0;34m(\u001b[0m\u001b[0mX\u001b[0m\u001b[0;34m.\u001b[0m\u001b[0mshape\u001b[0m\u001b[0;34m)\u001b[0m\u001b[0;34m\u001b[0m\u001b[0;34m\u001b[0m\u001b[0m\n\u001b[0;32m---> 76\u001b[0;31m     \u001b[0mmodel\u001b[0m\u001b[0;34m.\u001b[0m\u001b[0mload_weights\u001b[0m\u001b[0;34m(\u001b[0m\u001b[0mos\u001b[0m\u001b[0;34m.\u001b[0m\u001b[0mpath\u001b[0m\u001b[0;34m.\u001b[0m\u001b[0mjoin\u001b[0m\u001b[0;34m(\u001b[0m\u001b[0mAllele_fold\u001b[0m\u001b[0;34m,\u001b[0m \u001b[0;34m'models'\u001b[0m\u001b[0;34m,\u001b[0m \u001b[0mtask_name\u001b[0m \u001b[0;34m+\u001b[0m\u001b[0;34m'_model_.h5'\u001b[0m\u001b[0;34m)\u001b[0m\u001b[0;34m)\u001b[0m\u001b[0;34m\u001b[0m\u001b[0;34m\u001b[0m\u001b[0m\n\u001b[0m\u001b[1;32m     77\u001b[0m \u001b[0;34m\u001b[0m\u001b[0m\n\u001b[1;32m     78\u001b[0m \u001b[0;34m\u001b[0m\u001b[0m\n",
      "\u001b[0;32m/mnt/zt/Anaconda3/envs/molmap/lib/python3.7/site-packages/keras/utils/traceback_utils.py\u001b[0m in \u001b[0;36merror_handler\u001b[0;34m(*args, **kwargs)\u001b[0m\n\u001b[1;32m     65\u001b[0m     \u001b[0;32mexcept\u001b[0m \u001b[0mException\u001b[0m \u001b[0;32mas\u001b[0m \u001b[0me\u001b[0m\u001b[0;34m:\u001b[0m  \u001b[0;31m# pylint: disable=broad-except\u001b[0m\u001b[0;34m\u001b[0m\u001b[0;34m\u001b[0m\u001b[0m\n\u001b[1;32m     66\u001b[0m       \u001b[0mfiltered_tb\u001b[0m \u001b[0;34m=\u001b[0m \u001b[0m_process_traceback_frames\u001b[0m\u001b[0;34m(\u001b[0m\u001b[0me\u001b[0m\u001b[0;34m.\u001b[0m\u001b[0m__traceback__\u001b[0m\u001b[0;34m)\u001b[0m\u001b[0;34m\u001b[0m\u001b[0;34m\u001b[0m\u001b[0m\n\u001b[0;32m---> 67\u001b[0;31m       \u001b[0;32mraise\u001b[0m \u001b[0me\u001b[0m\u001b[0;34m.\u001b[0m\u001b[0mwith_traceback\u001b[0m\u001b[0;34m(\u001b[0m\u001b[0mfiltered_tb\u001b[0m\u001b[0;34m)\u001b[0m \u001b[0;32mfrom\u001b[0m \u001b[0;32mNone\u001b[0m\u001b[0;34m\u001b[0m\u001b[0;34m\u001b[0m\u001b[0m\n\u001b[0m\u001b[1;32m     68\u001b[0m     \u001b[0;32mfinally\u001b[0m\u001b[0;34m:\u001b[0m\u001b[0;34m\u001b[0m\u001b[0;34m\u001b[0m\u001b[0m\n\u001b[1;32m     69\u001b[0m       \u001b[0;32mdel\u001b[0m \u001b[0mfiltered_tb\u001b[0m\u001b[0;34m\u001b[0m\u001b[0;34m\u001b[0m\u001b[0m\n",
      "\u001b[0;32m/mnt/zt/Anaconda3/envs/molmap/lib/python3.7/site-packages/keras/backend.py\u001b[0m in \u001b[0;36mbatch_set_value\u001b[0;34m(tuples)\u001b[0m\n\u001b[1;32m   4026\u001b[0m   \u001b[0;32mif\u001b[0m \u001b[0mtf\u001b[0m\u001b[0;34m.\u001b[0m\u001b[0mcompat\u001b[0m\u001b[0;34m.\u001b[0m\u001b[0mv1\u001b[0m\u001b[0;34m.\u001b[0m\u001b[0mexecuting_eagerly_outside_functions\u001b[0m\u001b[0;34m(\u001b[0m\u001b[0;34m)\u001b[0m\u001b[0;34m:\u001b[0m\u001b[0;34m\u001b[0m\u001b[0;34m\u001b[0m\u001b[0m\n\u001b[1;32m   4027\u001b[0m     \u001b[0;32mfor\u001b[0m \u001b[0mx\u001b[0m\u001b[0;34m,\u001b[0m \u001b[0mvalue\u001b[0m \u001b[0;32min\u001b[0m \u001b[0mtuples\u001b[0m\u001b[0;34m:\u001b[0m\u001b[0;34m\u001b[0m\u001b[0;34m\u001b[0m\u001b[0m\n\u001b[0;32m-> 4028\u001b[0;31m       \u001b[0mx\u001b[0m\u001b[0;34m.\u001b[0m\u001b[0massign\u001b[0m\u001b[0;34m(\u001b[0m\u001b[0mnp\u001b[0m\u001b[0;34m.\u001b[0m\u001b[0masarray\u001b[0m\u001b[0;34m(\u001b[0m\u001b[0mvalue\u001b[0m\u001b[0;34m,\u001b[0m \u001b[0mdtype\u001b[0m\u001b[0;34m=\u001b[0m\u001b[0mdtype_numpy\u001b[0m\u001b[0;34m(\u001b[0m\u001b[0mx\u001b[0m\u001b[0;34m)\u001b[0m\u001b[0;34m)\u001b[0m\u001b[0;34m)\u001b[0m\u001b[0;34m\u001b[0m\u001b[0;34m\u001b[0m\u001b[0m\n\u001b[0m\u001b[1;32m   4029\u001b[0m   \u001b[0;32melse\u001b[0m\u001b[0;34m:\u001b[0m\u001b[0;34m\u001b[0m\u001b[0;34m\u001b[0m\u001b[0m\n\u001b[1;32m   4030\u001b[0m     \u001b[0;32mwith\u001b[0m \u001b[0mget_graph\u001b[0m\u001b[0;34m(\u001b[0m\u001b[0;34m)\u001b[0m\u001b[0;34m.\u001b[0m\u001b[0mas_default\u001b[0m\u001b[0;34m(\u001b[0m\u001b[0;34m)\u001b[0m\u001b[0;34m:\u001b[0m\u001b[0;34m\u001b[0m\u001b[0;34m\u001b[0m\u001b[0m\n",
      "\u001b[0;31mValueError\u001b[0m: Cannot assign value to variable ' dense_9/kernel:0': Shape mismatch.The variable shape (192, 128), and the assigned value shape (192, 512) are incompatible."
     ]
    }
   ],
   "source": [
    "import gc\n",
    "class_name = 'class_1'                                                     #here!\n",
    "# Train_dir = '/raid/hly/PK-3[2018PLOS]/data/train_data-MID/'+ class_name +'_pre'     \n",
    "Train_dir = '/raid/hly/PK-4[MHCflurry]/no_mass_spec/data/trainval_MID_otherAllele'\n",
    "Test_dir = '/mnt/zt/Dopaap/dopaap_predictor/dopaap_sota_model_on_plos_test/test_data'\n",
    "loss_models_results_dir = '/mnt/zt/Dopaap/dopaap_predictor/PK-3_2018PLOS_from_hly_vaccin_task/loss_models_results'\n",
    "\n",
    "\n",
    "\n",
    "for allele in os.listdir(Test_dir):\n",
    "    \n",
    "    print(f'{allele} is processing...')\n",
    "    \n",
    "    if allele not in os.listdir(loss_models_results_dir):\n",
    "        continue\n",
    "    print(f'{allele} is starting...')\n",
    "    \n",
    "    df_test = pd.read_csv(os.path.join(Test_dir, allele, 'Plos_peptide_allele_prediction.csv'))  \n",
    "    \n",
    "    # 创建储存 Allele 结果的文件夹\n",
    "    task_dir = loss_models_results_dir             \n",
    "    Allele_fold = os.path.join(loss_models_results_dir, allele)\n",
    "\n",
    "    if not os.path.exists(Allele_fold) : \n",
    "        os.makedirs(Allele_fold)\n",
    "        os.makedirs(os.path.join(Allele_fold,'loss'))\n",
    "        os.makedirs(os.path.join(Allele_fold,'models'))\n",
    "        os.makedirs(os.path.join(Allele_fold,'results'))\n",
    "        # os.makedirs(os.path.join(Allele_fold,'fig-loss'))\n",
    "        # os.makedirs(os.path.join(Allele_fold,'fig-pfm'))\n",
    "        # os.makedirs(os.path.join(Allele_fold,'fig-pred_true')) \n",
    "\n",
    "    # 获得训练集和测试集的最大序列长度\n",
    "    max_seq_len = df_test['Description'].apply(len).max()\n",
    "\n",
    "    X_test_data_dir = '/mnt/zt/Dopaap/dopaap_predictor/PK-3_2018PLOS_from_hly_vaccin_task/X_test_data'\n",
    "\n",
    "    # 生成 X_test + Y_test \n",
    "    X_test_name = os.path.join(X_test_data_dir, allele+'_X_test_'+'.data')\n",
    "    if not os.path.exists(X_test_name) :\n",
    "        X_test = []\n",
    "        for seq in df_test['Description']:\n",
    "            X_test.append(get_3d_feat(seq))\n",
    "        X_test = np.stack(X_test)\n",
    "        dump(X_test, X_test_name)\n",
    "    else:\n",
    "        X_test = load(X_test_name)\n",
    "    X_test = X_test.astype('float32')\n",
    "    Y_test = df_test['Normalized_QM'].values.reshape(-1, 1) \n",
    "\n",
    "    # 确定参数和模型\n",
    "    task_name = allele +'_noMS'\n",
    "    \n",
    "    df_res = pd.read_csv(os.path.join(Allele_fold,'results', task_name +'_results.csv'))\n",
    "    \n",
    "    # 參數\n",
    "    inc = df_res['kernel_size_incept'][0]\n",
    "    inc = eval(inc)\n",
    "    lr = df_res['lr'][0]\n",
    "    ks_fir = df_res['kernel_size_1'][0]\n",
    "    ks_fir = eval(ks_fir)\n",
    "    kn = df_res['kernel_number'][0]\n",
    "    kn = eval(kn)\n",
    "    kn_1,kn_2,kn_3 = kn[0],kn[1],kn[2]\n",
    "    lamda = df_res['lamda'][0]\n",
    "    bs = df_res['batch_size'][0]\n",
    "    \n",
    "    if allele in ['HLA-A_0201','HLA-A_3002','HLA-A_0203',\n",
    "        'HLA-B_2705','HLA-A_0301','HLA-B_5301','HLA-A_6802','HLA-A_3301']:   \n",
    "        model = Model_2()\n",
    "    else:\n",
    "        model = Model_1()\n",
    "        \n",
    "    X = load(X_test_name)\n",
    "    model.build(X.shape)\n",
    "    model.load_weights(os.path.join(Allele_fold, 'models', task_name +'_model_.h5'))\n",
    "    \n",
    "\n",
    "    # make prediction\n",
    "    Y_test_pred = model.predict(X_test)\n",
    "    df_pred = pd.DataFrame(Y_test_pred).rename(columns={0:'Dopaap_IC50_Normalized_find_sota_in_part2'})\n",
    "    df_combined = pd.concat([df_test, df_pred], axis=1)\n",
    "    df_combined.to_csv(os.path.join(Test_dir, allele, 'dopaap_prediction.csv'), index=False)\n",
    "    \n",
    "    # 删除model\n",
    "    del model\n",
    "    # Perform garbage collection\n",
    "    gc.collect()\n",
    "    print(f'{allele} is over...')"
   ]
  },
  {
   "cell_type": "code",
   "execution_count": 12,
   "metadata": {},
   "outputs": [
    {
     "data": {
      "text/plain": [
       "2684"
      ]
     },
     "execution_count": 12,
     "metadata": {},
     "output_type": "execute_result"
    }
   ],
   "source": [
    "allele\n",
    "gc.collect()"
   ]
  }
 ],
 "metadata": {
  "kernelspec": {
   "display_name": "vaccin",
   "language": "python",
   "name": "python3"
  },
  "language_info": {
   "codemirror_mode": {
    "name": "ipython",
    "version": 3
   },
   "file_extension": ".py",
   "mimetype": "text/x-python",
   "name": "python",
   "nbconvert_exporter": "python",
   "pygments_lexer": "ipython3",
   "version": "3.7.12"
  },
  "orig_nbformat": 4,
  "vscode": {
   "interpreter": {
    "hash": "616f56fef8ea7183d51ad2039e0213a0ade719c1a48fd338f6185e7423826c67"
   }
  }
 },
 "nbformat": 4,
 "nbformat_minor": 2
}
