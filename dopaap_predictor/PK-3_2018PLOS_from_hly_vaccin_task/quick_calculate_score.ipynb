{
 "cells": [
  {
   "cell_type": "code",
   "execution_count": 3,
   "metadata": {},
   "outputs": [
    {
     "name": "stdout",
     "output_type": "stream",
     "text": [
      "R-squared: 0.8205904366477911\n",
      "Pearson correlation coefficient: 0.9267482178755826\n",
      "Kendall's tau: 0.7201127568342133\n"
     ]
    }
   ],
   "source": [
    "import pandas as pd\n",
    "from sklearn.metrics import r2_score\n",
    "from scipy.stats import pearsonr, kendalltau\n",
    "\n",
    "# Read the CSV file\n",
    "data = pd.read_csv('/mnt/zt/Dopaap/dopaap_predictor/dopaap_sota_model_on_plos_test/original_Plos_peptide_prediction.csv')\n",
    "\n",
    "# Extract the two columns for calculation\n",
    "x = data['Normalized_QM']\n",
    "y = data['Predicted_Normalized_QM']\n",
    "\n",
    "# Calculate R-squared\n",
    "r2 = r2_score(x, y)\n",
    "\n",
    "# Calculate Pearson correlation coefficient\n",
    "pcc, _ = pearsonr(x, y)\n",
    "\n",
    "# Calculate Kendall's tau\n",
    "tau, _ = kendalltau(x, y)\n",
    "\n",
    "# Print the results\n",
    "print(\"R-squared:\", r2)\n",
    "print(\"Pearson correlation coefficient:\", pcc)\n",
    "print(\"Kendall's tau:\", tau)\n"
   ]
  }
 ],
 "metadata": {
  "kernelspec": {
   "display_name": "molmap",
   "language": "python",
   "name": "python3"
  },
  "language_info": {
   "codemirror_mode": {
    "name": "ipython",
    "version": 3
   },
   "file_extension": ".py",
   "mimetype": "text/x-python",
   "name": "python",
   "nbconvert_exporter": "python",
   "pygments_lexer": "ipython3",
   "version": "3.7.12"
  }
 },
 "nbformat": 4,
 "nbformat_minor": 2
}
