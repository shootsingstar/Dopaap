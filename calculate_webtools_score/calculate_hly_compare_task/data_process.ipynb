{
 "cells": [
  {
   "cell_type": "code",
   "execution_count": 19,
   "metadata": {},
   "outputs": [],
   "source": [
    "import pandas as pd\n",
    "import numpy as np\n",
    "import os\n",
    "import math\n",
    "\n",
    "## 引用 MHCflurry 文献的标准化代码\n",
    "def from_ic50(ic50, max_ic50=50000.0):\n",
    "    \"\"\"\n",
    "    Convert ic50s to regression targets in the range [0.0, 1.0].\n",
    "    \n",
    "    Parameters\n",
    "    ----------\n",
    "    ic50 : numpy.array of float\n",
    "    Returns\n",
    "    -------\n",
    "    numpy.array of float\n",
    "    \"\"\"\n",
    "    x = 1.0 - (np.log(np.maximum(ic50, 1e-12)) / np.log(max_ic50))\n",
    "    \n",
    "    return np.minimum(\n",
    "        1.0,\n",
    "        np.maximum(0.0, x))\n",
    "\n",
    "def to_ic50(x, max_ic50=50000.0):\n",
    "    return max_ic50 ** (1.0 - x)"
   ]
  },
  {
   "cell_type": "markdown",
   "metadata": {},
   "source": [
    "获得PK-3的基准数据集。"
   ]
  },
  {
   "cell_type": "code",
   "execution_count": 29,
   "metadata": {},
   "outputs": [],
   "source": [
    "# txt_dir = '/raid/hly/PK-3[2018PLOS]/data/PK-3_benchmark_data/txt/class-II_15mer'\n",
    "# csv_dir = '/raid/hly/PK-3[2018PLOS]/data/PK-3_benchmark_data'\n",
    "# for file in os.listdir(txt_dir):\n",
    "# # 对于 class-I\n",
    "#     file_name = file.replace('%2A','_')\n",
    "#     file_name = file_name.replace('%3A','')\n",
    "#     file_name = file_name.replace('txt','csv')\n",
    "    \n",
    "# # # 对于 class-II\n",
    "# #     file_values = file.split('-')\n",
    "# #     if len(file_values) == 3:\n",
    "# #         # 在allele中插入‘_’\n",
    "# #         file_value1 = list(file_values[1])\n",
    "# #         file_value1.insert(4,'_')           #在第一个allele的第5位插入'_'\n",
    "# #         file_value1 = ''.join(file_value1)\n",
    "\n",
    "# #         file_value2 = list(file_values[2])\n",
    "# #         file_value2.insert(4,'_')           #在第二个allele的第5位插入'_'\n",
    "# #         file_value2 = ''.join(file_value2)\n",
    "\n",
    "# #         file_name = file_values[0] + '-' + file_value1 + '&' + file_value2\n",
    "# #         file_name = file_name.replace('txt','csv')\n",
    "\n",
    "# #     if len(file_values) == 2:\n",
    "# #         # 在allele中插入‘_’\n",
    "# #         file_value1 = list(file_values[1])\n",
    "# #         file_value1.insert(4,'_')           #在第一个allele的第5位插入'_'\n",
    "# #         file_value1 = ''.join(file_value1)\n",
    "\n",
    "# #         file_name = file_values[0] + '-' + file_value1\n",
    "# #         file_name = file_name.replace('txt','csv')\n",
    "\n",
    "#     # 获得基准数据集的csv文件。  \n",
    "#     ls_out=[]\n",
    "    \n",
    "#     #打开并整理文件\n",
    "#     with open(os.path.join(txt_dir,file),'r')as df_in:\n",
    "#         #读每一行\n",
    "#         for line in df_in:\n",
    "#             ls_in = line.strip().split('\\t')    #\".strip()\",清除前后空格\n",
    "#             ls_out.append(ls_in)\n",
    "            \n",
    "#     df_in.close()\n",
    "\n",
    "#     #生成dataframe,加入标准化的QM值\n",
    "#     df_out = pd.DataFrame(ls_out)\n",
    "#     df_out.columns = ['Description','Quantitative measurement(nm)']\n",
    "#     # 将'Quantitative measurement(nm)'列的数据类型转换为“float”\n",
    "#     def format(value):\n",
    "#         value = float(value)\n",
    "#         return value\n",
    "#     df_out['Quantitative measurement(nm)'] = df_out['Quantitative measurement(nm)'].apply(format)\n",
    "#     # 数据标准化 【1-log10(IC50)/log10(50000 nM)】 ,IC50单位为nM\n",
    "#     df_out[\"Normalized_QM\"] =  1-(df_QM[\"Quantitative measurement\"].apply(np.log10))/np.log10(50000)\n",
    "\n",
    "#     #储存文件\n",
    "#     df_out.to_csv(os.path.join(csv_dir,file_name),index=0) "
   ]
  },
  {
   "attachments": {},
   "cell_type": "markdown",
   "metadata": {},
   "source": [
    "获得PK-3训练集数据--\n",
    "    \"trainval_MID.no_MS\" - \"benchmark data\"，即测试集数据不在训练集中暴露。"
   ]
  },
  {
   "cell_type": "code",
   "execution_count": 11,
   "metadata": {},
   "outputs": [],
   "source": [
    "oritrainval_dir = '/raid/hly/Dopaap predictor/data/trainval_MID.no_MS'\n",
    "benchmark_dir = '/raid/hly/PK-3[2018PLOS]/data/PK-3_benchmark_data'\n",
    "trainval_dir = '/raid/hly/PK-3[2018PLOS]/data/trainval_MID.no_MS(for_PK3)'\n",
    "\n",
    "for file in os.listdir(oritrainval_dir):\n",
    "    if os.path.exists(os.path.join(benchmark_dir,file)) :\n",
    "\n",
    "    ## 分别处理训练数据和测试数据，以便能求差值\n",
    "        df_test = pd.read_csv(os.path.join(benchmark_dir,file))\n",
    "        df_test.rename(\n",
    "                columns={\"Description\": \"peptide\", \"Quantitative measurement(nm)\": \"measurement_value\", \"Normalized_QM\": \"Normalized_QM\"},\n",
    "                inplace=True)\n",
    "        # 数据标准化 \n",
    "        df_test[\"Normalized_QM\"] = df_test[\"measurement_value\"].apply(from_ic50)\n",
    "        # 保存文件\n",
    "        df_test.to_csv(os.path.join(benchmark_dir,file),index=0)\n",
    "        \n",
    "        df_trainval = pd.read_csv(os.path.join(oritrainval_dir,file),index_col=0)\n",
    "        df_trainval = df_trainval[['peptide','measurement_value','Normalized_QM']]\n",
    "\n",
    "#### 求差集\n",
    "\n",
    "        diff_df = pd.concat([df_trainval, df_test, df_test]).drop_duplicates(subset='peptide',keep=False)\n",
    "\n",
    "        diff_df.to_csv(os.path.join(trainval_dir,file),index=0)\n",
    "        "
   ]
  },
  {
   "cell_type": "code",
   "execution_count": 4,
   "metadata": {},
   "outputs": [],
   "source": [
    "### 备注：\n",
    "# \"HLA-A*15:03\"数据集在使用from_ic50()进行标准化后，Normalized_QM全是1.0，导致无法计算R2.\n",
    "# 因此，对其采用【1-log10(IC50)/log10(50000 nM)】的标准化公式，这样Normalized_QM最大值会稍大于1.\n",
    "\n",
    "dft = pd.read_csv('/raid/hly/PK-3[2018PLOS]/data/PK-3_benchmark_data/HLA-B_1503.csv')\n",
    "# 数据标准化 【1-log10(IC50)/log10(50000 nM)】 ,IC50单位为nM\n",
    "dft[\"Normalized_QM\"] = 1-(dft[\"measurement_value\"].apply(np.log10))/np.log10(50000)\n",
    "dft.to_csv('/raid/hly/PK-3[2018PLOS]/data/PK-3_benchmark_data/HLA-B_1503.csv')"
   ]
  },
  {
   "cell_type": "code",
   "execution_count": 29,
   "metadata": {},
   "outputs": [],
   "source": [
    "# 将训练验证集恢复至原来信息量\n",
    "oritrainval_dir = '/raid/hly/Dopaap predictor/data/trainval_MID.no_MS'\n",
    "trainval_dir = '/raid/hly/PK-3[2018PLOS]/data/trainval_MID.no_MS(for_PK3)'\n",
    "\n",
    "for file in os.listdir(trainval_dir):\n",
    "        # 将 “peptide” 列设为索引\n",
    "        df_oritv = pd.read_csv(os.path.join(oritrainval_dir,file))\n",
    "        df_oritv.set_index('peptide',inplace=True)\n",
    "\n",
    "        df_tv = pd.read_csv(os.path.join(trainval_dir,file))\n",
    "        df_tv.set_index('peptide',inplace=True)\n",
    "\n",
    "        df = pd.merge(df_oritv,df_tv,how='inner',left_index=True,right_index=True)\n",
    "        df = df.iloc[:,:-2]\n",
    "        df.rename(\n",
    "                columns={\"measurement_value_x\": \"measurement_value\", \"Normalized_QM_x\": \"Normalized_QM\"},\n",
    "                inplace=True)\n",
    "        df.to_csv(os.path.join(trainval_dir,file))"
   ]
  },
  {
   "cell_type": "markdown",
   "metadata": {},
   "source": [
    "数据统计"
   ]
  },
  {
   "cell_type": "code",
   "execution_count": 12,
   "metadata": {},
   "outputs": [],
   "source": [
    "import pandas as pd\n",
    "#统计了各数据集的条目数，多肽长度的最值，活性值最值，标准化活性值的最值。\n",
    "\n",
    "files_dir = '/raid/hly/PK-3[2018PLOS]/data/trainval_MID.no_MS(for_PK3)'\n",
    "files = os.listdir(files_dir)\n",
    "statistic = []\n",
    "for file in files:\n",
    "    df = pd.read_csv(os.path.join(files_dir,file))\n",
    "    file_name = file.split('.')[0]\n",
    "    # 条目数\n",
    "    pep_num = len(df)\n",
    "\n",
    "    #多肽长度范围\n",
    "    pep_len_min = min(map(len,df['peptide']))\n",
    "    pep_len_max = max(map(len,df['peptide']))\n",
    "\n",
    "    #QM范围\n",
    "    QM_min = min(df['measurement_value'])\n",
    "    QM_max = max(df['measurement_value'])\n",
    "    \n",
    "    #normalized_QM范围\n",
    "    Normalized_QM_min = min(df['Normalized_QM'])\n",
    "    Normalized_QM_max = max(df['Normalized_QM'])\n",
    "\n",
    "    statistic.append([file_name,pep_num,pep_len_min,pep_len_max,QM_min,QM_max,Normalized_QM_min,Normalized_QM_max])\n",
    "df_stt = pd.DataFrame(statistic,columns=['HLA-allele','pep_num','pep_len_min','pep_len_max','QM_min','QM_max','Normalized_QM_min','Normalized_QM_max'])\n",
    "df_stt.sort_values(by='pep_num',axis=0,ascending=False, inplace=True)\n",
    "df_stt = df_stt.reset_index(drop = True)\n",
    "df_stt.to_csv('/raid/hly/PK-3[2018PLOS]/data/statistics/stat_trainval230412.csv')"
   ]
  },
  {
   "attachments": {},
   "cell_type": "markdown",
   "metadata": {},
   "source": [
    "计算测试集结果"
   ]
  },
  {
   "cell_type": "code",
   "execution_count": 1,
   "metadata": {},
   "outputs": [],
   "source": [
    "import pandas as pd\n",
    "import numpy as np\n",
    "import os\n",
    "import math\n",
    "import scipy.stats\n",
    "def PCC(y_pred,y_true):\n",
    "    diff_pred,diff_true=y_pred-np.mean(y_pred),y_true-np.mean(y_true)\n",
    "    return np.sum(diff_pred*diff_true)/np.sqrt(np.sum(diff_pred**2)*np.sum(diff_true**2))"
   ]
  },
  {
   "cell_type": "code",
   "execution_count": 3,
   "metadata": {},
   "outputs": [],
   "source": [
    "alldata_res = {}\n",
    "\n",
    "res_files = '/raid/hly/PK-3[2018PLOS]/Res_V1'\n",
    "for Allele in os.listdir(res_files):\n",
    "    # print(Allele)\n",
    "    res_file = pd.read_csv(os.path.join(res_files,Allele) + '/results/' + Allele +'_V1_results.csv',index_col=0)\n",
    "    alldata_res[Allele] = res_file.iloc[0]\n",
    "    df_alldata_res = pd.DataFrame(alldata_res).T\n",
    "\n",
    "df_alldata_res.to_csv('/raid/hly/PK-3[2018PLOS]/pred_true/results_noMS_V1.csv')"
   ]
  },
  {
   "cell_type": "code",
   "execution_count": 6,
   "metadata": {},
   "outputs": [],
   "source": [
    "# 拼接基准测试集的预测结果\n",
    "res_files = '/raid/hly/PK-3[2018PLOS]/Res_V1'\n",
    "df_allpred = pd.DataFrame()\n",
    "for Allele in os.listdir(res_files):\n",
    "    pred_file = pd.read_csv(os.path.join(res_files,Allele) + '/' + Allele +'true_pred.csv',index_col=0)\n",
    "    pred_file['Allele'] = Allele \n",
    "    df_allpred = df_allpred.append(pred_file)\n",
    "df_allpred.to_csv('/raid/hly/PK-3[2018PLOS]/pred_true/predresults_noMS_V1.csv',index=0)"
   ]
  },
  {
   "cell_type": "code",
   "execution_count": null,
   "metadata": {},
   "outputs": [],
   "source": [
    "df_allpred = pd.read_csv('/raid/hly/PK-3[2018PLOS]/no_spec_mass/pred_true/predresults_noMS_1.csv')\n",
    "df_allpred"
   ]
  },
  {
   "cell_type": "code",
   "execution_count": 7,
   "metadata": {},
   "outputs": [
    {
     "data": {
      "text/plain": [
       "0.5536638192219083"
      ]
     },
     "execution_count": 7,
     "metadata": {},
     "output_type": "execute_result"
    }
   ],
   "source": [
    "# 计算R2\n",
    "from sklearn.metrics import r2_score\n",
    "import pandas as pd\n",
    "# df_allpred_1 = pd.read_csv('/raid/hly/PK-3[2018PLOS]/2ndexpt(trainvaltest)/predresults_class1_2nd.csv')\n",
    "\n",
    "y_true = df_allpred['Normalized_QM'].to_list()\n",
    "y_pred = df_allpred['Pred_Norm_QM'].to_list()\n",
    "r2_score(y_true, y_pred)"
   ]
  },
  {
   "cell_type": "code",
   "execution_count": 8,
   "metadata": {},
   "outputs": [
    {
     "data": {
      "text/plain": [
       "Text(0, 0.5, 'y_true')"
      ]
     },
     "execution_count": 8,
     "metadata": {},
     "output_type": "execute_result"
    },
    {
     "data": {
      "image/png": "[encoded data removed]",
      "text/plain": [
       "<Figure size 432x288 with 1 Axes>"
      ]
     },
     "metadata": {
      "needs_background": "light"
     },
     "output_type": "display_data"
    }
   ],
   "source": [
    "import matplotlib.pyplot as plt\n",
    "\n",
    "plt.scatter(y_true,y_pred)\n",
    "#plt.title('测试集活性值的预测值与真实值')\n",
    "x = np.linspace(0, 2)\n",
    "plt.plot(x, x)\n",
    "plt.xlabel('y_pred')\n",
    "plt.ylabel('y_true')\n",
    "# plt.savefig"
   ]
  },
  {
   "cell_type": "code",
   "execution_count": 6,
   "metadata": {},
   "outputs": [
    {
     "data": {
      "text/plain": [
       "0.9267466225335701"
      ]
     },
     "execution_count": 6,
     "metadata": {},
     "output_type": "execute_result"
    }
   ],
   "source": [
    "# 计算 Pearson r\n",
    "y_true = df_allpred['Normalized_QM'].to_list()\n",
    "y_pred = df_allpred['Pred_Norm_QM'].to_list()\n",
    "PCC(y_true, y_pred)"
   ]
  },
  {
   "cell_type": "code",
   "execution_count": 7,
   "metadata": {},
   "outputs": [
    {
     "data": {
      "text/plain": [
       "0.7200475522377997"
      ]
     },
     "execution_count": 7,
     "metadata": {},
     "output_type": "execute_result"
    }
   ],
   "source": [
    "# 计算 tau\n",
    "y_true = df_allpred['Normalized_QM'].to_list()\n",
    "y_pred = df_allpred['Pred_Norm_QM'].to_list()\n",
    "scipy.stats.kendalltau(y_pred, y_true)[0]"
   ]
  }
 ],
 "metadata": {
  "kernelspec": {
   "display_name": "vaccin",
   "language": "python",
   "name": "python3"
  },
  "language_info": {
   "codemirror_mode": {
    "name": "ipython",
    "version": 3
   },
   "file_extension": ".py",
   "mimetype": "text/x-python",
   "name": "python",
   "nbconvert_exporter": "python",
   "pygments_lexer": "ipython3",
   "version": "3.6.13"
  },
  "orig_nbformat": 4,
  "vscode": {
   "interpreter": {
    "hash": "616f56fef8ea7183d51ad2039e0213a0ade719c1a48fd338f6185e7423826c67"
   }
  }
 },
 "nbformat": 4,
 "nbformat_minor": 2
}
