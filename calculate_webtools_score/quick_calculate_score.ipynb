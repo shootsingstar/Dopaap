{
 "cells": [
  {
   "cell_type": "code",
   "execution_count": 4,
   "metadata": {},
   "outputs": [
    {
     "name": "stdout",
     "output_type": "stream",
     "text": [
      "R-squared: -0.9857707149607879\n",
      "Pearson correlation coefficient: 0.40759176972417516\n",
      "Kendall's tau: 0.3146086611294784\n"
     ]
    }
   ],
   "source": [
    "import pandas as pd\n",
    "from sklearn.metrics import r2_score\n",
    "from scipy.stats import pearsonr, kendalltau\n",
    "\n",
    "# Read the CSV file\n",
    "data = pd.read_csv('/mnt/zt/Dopaap/calculate_webtools_score/compare_HPV16_dataset/Dopaap_result/all_predict_result.csv')\n",
    "\n",
    "# Extract the two columns for calculation\n",
    "x = data['Normalized_QM']\n",
    "y = data['Pred_Norm_QM']\n",
    "\n",
    "# Calculate R-squared\n",
    "r2 = r2_score(x, y)\n",
    "\n",
    "# Calculate Pearson correlation coefficient\n",
    "pcc, _ = pearsonr(x, y)\n",
    "\n",
    "# Calculate Kendall's tau\n",
    "tau, _ = kendalltau(x, y)\n",
    "\n",
    "# Print the results\n",
    "print(\"R-squared:\", r2)\n",
    "print(\"Pearson correlation coefficient:\", pcc)\n",
    "print(\"Kendall's tau:\", tau)\n"
   ]
  }
 ],
 "metadata": {
  "kernelspec": {
   "display_name": "molmap",
   "language": "python",
   "name": "python3"
  },
  "language_info": {
   "codemirror_mode": {
    "name": "ipython",
    "version": 3
   },
   "file_extension": ".py",
   "mimetype": "text/x-python",
   "name": "python",
   "nbconvert_exporter": "python",
   "pygments_lexer": "ipython3",
   "version": "3.7.12"
  }
 },
 "nbformat": 4,
 "nbformat_minor": 2
}
