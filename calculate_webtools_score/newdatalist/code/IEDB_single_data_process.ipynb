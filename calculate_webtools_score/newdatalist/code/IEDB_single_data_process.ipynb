{
 "cells": [
  {
   "cell_type": "code",
   "execution_count": 1,
   "metadata": {},
   "outputs": [],
   "source": [
    "import pandas as pd\n",
    "import numpy as np\n",
    "import os\n",
    "import math"
   ]
  },
  {
   "cell_type": "markdown",
   "metadata": {},
   "source": [
    "获取所需要的标签"
   ]
  },
  {
   "cell_type": "code",
   "execution_count": 2,
   "metadata": {},
   "outputs": [],
   "source": [
    "columns_ls = ['Epitope - Name',\n",
    " 'Assay - Qualitative Measurement',\n",
    " 'Assay - Measurement Inequality',\n",
    " 'Assay - Quantitative measurement',\n",
    " 'Assay - Units',\n",
    " 'MHC Restriction - Name',\n",
    " 'MHC Restriction - Class',\n",
    "#  'Type',\n",
    " 'Reference - Date',\n",
    "#  'Title',\n",
    "#  'Method/Technique',\n",
    " 'Assay - Response measured',\n",
    " 'Host - Name']\n",
    "\n",
    "new_columns_ls = ['Description',\n",
    " 'Qualitative Measure',\n",
    " 'Measurement Inequality',\n",
    " 'Quantitative measurement',\n",
    " 'Units',\n",
    " 'Allele Name',\n",
    " 'MHC allele class',\n",
    "#  'Ref Type',\n",
    " 'Ref Date',\n",
    "#  'Ref Title',\n",
    "#  'Assay Method/Technique',\n",
    " 'Assay Group',\n",
    " 'Host Name']\n",
    "\n",
    " # 输入与输出路径\n",
    "# IEDB_origin = '/raid/hly/PK-panAllele/data/mhc_ligand_full.csv' \n",
    "# IEDB_ori_need = '/raid/hly/PK-panAllele/data/IEDB2022_need.csv'\n",
    "IEDB_origin = '/mnt/zt/Dopaap/original_data/2021_mhc_ligand_table_export_1708357594.csv'\n",
    "IEDB_ori_need = '/mnt/zt/Dopaap/calculate_webtools_score/newdatalist/data/2021_IEDB_need_column.csv'"
   ]
  },
  {
   "cell_type": "code",
   "execution_count": 3,
   "metadata": {},
   "outputs": [
    {
     "name": "stderr",
     "output_type": "stream",
     "text": [
      "/home/zt/anaconda3/envs/molmap/lib/python3.7/site-packages/IPython/core/interactiveshell.py:3257: DtypeWarning: Columns (12,13,14,27,28,29,30,34,35,36,37,38,39,40,41,42,45,46,47,48,49,51,52,53,54,55,56,65,66,67,68,72,73,74,75,76,79,80,81,82,83,84,85,86,87,88,89,92,95,100,101) have mixed types.Specify dtype option on import or set low_memory=False.\n",
      "  interactivity=interactivity, compiler=compiler, result=result)\n"
     ]
    }
   ],
   "source": [
    "# 单表头数据header=0,双表头数据header=1\n",
    "df = pd.read_csv(IEDB_origin,header=0)"
   ]
  },
  {
   "cell_type": "code",
   "execution_count": 4,
   "metadata": {},
   "outputs": [],
   "source": [
    "# 获取原始文件中需要的标签。存至“IEDB_ori_need_Data”\n",
    "df_need = df[columns_ls]\n",
    "df_need.columns = [new_columns_ls]\n",
    "df_need.to_csv(IEDB_ori_need,index=0)"
   ]
  },
  {
   "cell_type": "markdown",
   "metadata": {},
   "source": [
    "删除不需要的数据"
   ]
  },
  {
   "cell_type": "code",
   "execution_count": 5,
   "metadata": {},
   "outputs": [
    {
     "name": "stderr",
     "output_type": "stream",
     "text": [
      "/home/zt/anaconda3/envs/molmap/lib/python3.7/site-packages/IPython/core/interactiveshell.py:3257: DtypeWarning: Columns (2,4) have mixed types.Specify dtype option on import or set low_memory=False.\n",
      "  interactivity=interactivity, compiler=compiler, result=result)\n"
     ]
    }
   ],
   "source": [
    "#读取文件\n",
    "df_all = pd.read_csv('/mnt/zt/Dopaap/calculate_webtools_score/newdatalist/data/2021_IEDB_need_column.csv')"
   ]
  },
  {
   "cell_type": "code",
   "execution_count": 6,
   "metadata": {},
   "outputs": [],
   "source": [
    "# 筛选出host为人类的条目--Homo sapiens (human) or human（Homo sapiens）\n",
    "df_host = df_all[(df_all['Host Name'] == 'Homo sapiens (human)') | (df_all['Host Name'] =='human (Homo sapiens)') ]\n",
    "\n",
    "# 筛选出有measurement标签的数值\n",
    "df_QM = df_host[pd.notnull(df_host['Quantitative measurement'])]\n",
    "\n",
    "#保留规范化的多肽序列（不含符号且不含'BXJZ'）\n",
    "    # 删除seq含'-'或' '的行\n",
    "df1 = df_QM.drop(index=(df_QM.loc[(df_QM['Description'].str.contains('-'))].index))\n",
    "df2 = df1.drop(index=(df1.loc[(df1['Description'].str.contains(' '))].index))\n",
    "    # 删除seq含'BXJZ'的行\n",
    "df3 = df2.drop(index=(df2.loc[(df2['Description'].str.contains('B'))].index))\n",
    "df4 = df3.drop(index=(df3.loc[(df3['Description'].str.contains('X'))].index))\n",
    "df5 = df4.drop(index=(df4.loc[(df4['Description'].str.contains('J'))].index))\n",
    "df6 = df5.drop(index=(df5.loc[(df5['Description'].str.contains('Z'))].index))\n",
    "\n",
    "# 筛选出精确的allele name（含'HLA'，'：'） \n",
    "df_QM = df6.loc[(df6['Allele Name'].str.contains('HLA'))]\n",
    "df_QM = df_QM.loc[(df_QM['Allele Name'].str.contains(\":\"))]\n",
    "\n",
    "# 删去assay group 不为 “KD”及 “IC50”，“EC50”相关的条目\n",
    "    #删去 assay group为 3D structure 的条目\n",
    "df_assay_1 = df_QM.drop(index=(df_QM.loc[(df_QM['Assay Group']== '3D structure' )].index))\n",
    "    #删去 assay group为 50% dissociation temperature 的条目\n",
    "df_assay_2 = df_assay_1.drop(index=(df_assay_1.loc[(df_assay_1['Assay Group']== \"50% dissociation temperature\" )].index))\n",
    "    #删去 assay group为 half life 的条目\n",
    "df_assay_3 = df_assay_2.drop(index=(df_assay_2.loc[(df_assay_2['Assay Group']== 'half life' )].index))\n",
    "     #删去 assay group为 off rate 的条目\n",
    "df_assay_4 = df_assay_3.drop(index=(df_assay_3.loc[(df_assay_3['Assay Group']== 'off rate' )].index))\n",
    "    #删去 assay group为 on rate 的条目\n",
    "df_assay_5 = df_assay_4.drop(index=(df_assay_4.loc[(df_assay_4['Assay Group']== 'on rate' )].index))\n",
    "    #删去 assay group为 qualitative binding 的条目\n",
    "df_assay_6 = df_assay_5.drop(index=(df_assay_5.loc[(df_assay_5['Assay Group']== 'qualitative binding' )].index))\n",
    "\n",
    "#删掉unit不为nM的数据\n",
    "df_assay_7 = df_assay_6.drop(index=(df_assay_6.loc[(df_assay_6['Units']!= 'nM' )].index))\n",
    "\n",
    "# 删去'Measurement Inequality'为'>','<','>=','<='的行\n",
    "df_MI_1 = df_assay_7.drop(index=(df_assay_7.loc[(df_assay_7['Measurement Inequality']== '>' )].index))\n",
    "df_MI_2 = df_MI_1.drop(index=(df_MI_1.loc[(df_MI_1['Measurement Inequality']== '<' )].index))\n",
    "df_MI_3 = df_MI_2.drop(index=(df_MI_2.loc[(df_MI_2['Measurement Inequality']== '>=' )].index))\n",
    "df_MI_4 = df_MI_3.drop(index=(df_MI_3.loc[(df_MI_3['Measurement Inequality']== '<=' )].index))\n",
    "\n",
    "# 去除活性值大于50000的条目\n",
    "df_QM = df_MI_4.drop(index=(df_MI_4.loc[(df_MI_4['Quantitative measurement'] > 50000)].index))\n",
    "\n",
    "# 去除“reference Title”为“Quantitating T cell cross-reactivity for unrelated peptide antigens.”的条目。\n",
    "# df_QM = df_QM.drop(index=(df_QM.loc[(df_QM['Ref Title']== 'Quantitating T cell cross-reactivity for unrelated peptide antigens.' )].index))\n"
   ]
  },
  {
   "cell_type": "code",
   "execution_count": 7,
   "metadata": {},
   "outputs": [],
   "source": [
    "# 数据标准化 【1-log10(IC50)/log10(50000 nM)】 ,IC50单位为nM\n",
    "df_QM[\"Normalized_QM\"] = 1-(df_QM[\"Quantitative measurement\"].apply(np.log10))/np.log10(50000)"
   ]
  },
  {
   "cell_type": "code",
   "execution_count": 8,
   "metadata": {},
   "outputs": [],
   "source": [
    "# 重置索引并保存文件\n",
    "df_QM = df_QM.reset_index(drop = True)\n",
    "\n",
    "df_QM.to_csv('/mnt/zt/Dopaap/calculate_webtools_score/newdatalist/data/2021_IEDB_processed.csv') "
   ]
  },
  {
   "cell_type": "code",
   "execution_count": 10,
   "metadata": {},
   "outputs": [],
   "source": [
    "df_2022 = df_QM[df_QM['Ref Date'] >= 2022]\n",
    "df_2022.to_csv('/mnt/zt/Dopaap/calculate_webtools_score/newdatalist/data/2022_IEDB_processed.csv')\n",
    "\n",
    "df_2023 = df_QM[df_QM['Ref Date'] >= 2023]\n",
    "df_2023.to_csv('/mnt/zt/Dopaap/calculate_webtools_score/newdatalist/data/2023_IEDB_processed.csv')"
   ]
  },
  {
   "cell_type": "markdown",
   "metadata": {},
   "source": [
    "获得new arraylist 测试集"
   ]
  },
  {
   "cell_type": "code",
   "execution_count": 13,
   "metadata": {},
   "outputs": [],
   "source": [
    "df_QM = pd.read_csv('/mnt/zt/Dopaap/calculate_webtools_score/newdatalist/data/2023_IEDB_processed.csv',index_col=0)"
   ]
  },
  {
   "cell_type": "code",
   "execution_count": 14,
   "metadata": {},
   "outputs": [],
   "source": [
    "out_dir = '/mnt/zt/Dopaap/calculate_webtools_score/newdatalist/data/testdata/2023'\n",
    "for name, group in df_QM.groupby('Allele Name') :\n",
    "    # 替换符号，如将/替换成&\n",
    "    name = name.replace('/', '&')\n",
    "    name = name.replace('*','_')\n",
    "    name = name.replace(':','')\n",
    "    pd.DataFrame(group).to_csv(os.path.join(out_dir,name+'.csv'))"
   ]
  },
  {
   "cell_type": "code",
   "execution_count": null,
   "metadata": {},
   "outputs": [],
   "source": [
    "# 统计\n",
    "\n",
    "#统计了各数据集的条目数，多肽长度的最值，活性值最值，标准化活性值的最值。\n",
    "\n",
    "files_dir = '/raid/hly/PK-panAllele/data/train_MID_2'\n",
    "files = os.listdir(files_dir)\n",
    "statistic = []\n",
    "for file in files:\n",
    "    df = pd.read_csv(os.path.join(files_dir,file))\n",
    "    file_name = file.split('.')[0]\n",
    "    # 条目数\n",
    "    pep_num = len(df)\n",
    "\n",
    "    #多肽长度范围\n",
    "    pep_len_min = min(map(len,df['Description']))\n",
    "    pep_len_max = max(map(len,df['Description']))\n",
    "\n",
    "    #QM范围\n",
    "    QM_min = min(df['Quantitative measurement'])\n",
    "    QM_max = max(df['Quantitative measurement'])\n",
    "    \n",
    "    #log_QM范围\n",
    "    Normalized_QM_min = min(df['Normalized_QM'])\n",
    "    Normalized_QM_max = max(df['Normalized_QM'])\n",
    "\n",
    "    statistic.append([file_name,pep_num,pep_len_min,pep_len_max,QM_min,QM_max,Normalized_QM_min,Normalized_QM_max])\n",
    "df_stt = pd.DataFrame(statistic,columns=['HLA-allele','pep_num','pep_len_min','pep_len_max','QM_min','QM_max','Normalized_QM_min','Normalized_QM_max'])\n",
    "df_stt.sort_values(by='pep_num',axis=0,ascending=False, inplace=True)\n",
    "df_stt = df_stt.reset_index(drop = True)\n",
    "df_stt.to_csv('/raid/hly/PK-panAllele/data/train_MID_2_statistics220708.csv')\n"
   ]
  }
 ],
 "metadata": {
  "kernelspec": {
   "display_name": "Python 3.6.13 ('vaccin': conda)",
   "language": "python",
   "name": "python3"
  },
  "language_info": {
   "codemirror_mode": {
    "name": "ipython",
    "version": 3
   },
   "file_extension": ".py",
   "mimetype": "text/x-python",
   "name": "python",
   "nbconvert_exporter": "python",
   "pygments_lexer": "ipython3",
   "version": "3.7.12"
  },
  "orig_nbformat": 4,
  "vscode": {
   "interpreter": {
    "hash": "616f56fef8ea7183d51ad2039e0213a0ade719c1a48fd338f6185e7423826c67"
   }
  }
 },
 "nbformat": 4,
 "nbformat_minor": 2
}
