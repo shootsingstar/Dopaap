{
 "cells": [
  {
   "cell_type": "code",
   "execution_count": 1,
   "metadata": {},
   "outputs": [],
   "source": [
    "import pandas as pd\n",
    "import numpy as np\n",
    "import os\n",
    "import math"
   ]
  },
  {
   "cell_type": "markdown",
   "metadata": {},
   "source": [
    "获取需要的标签，整合IEDB数据[已确定处理前后，数据量皆为1716092]"
   ]
  },
  {
   "cell_type": "code",
   "execution_count": 2,
   "metadata": {},
   "outputs": [],
   "source": [
    "columns_ls = ['Epitope - Name',\n",
    " 'Qualitative Measure',\n",
    " 'Measurement Inequality',\n",
    " 'Quantitative measurement',\n",
    " 'Units',\n",
    " 'Allele Name',\n",
    " 'MHC allele class',\n",
    " 'Type',\n",
    " 'Date',\n",
    " 'Title',\n",
    " 'Method/Technique',\n",
    " 'Assay Group',\n",
    " 'Name']\n",
    "\n",
    "new_columns_ls = ['Description',\n",
    " 'Qualitative Measure',\n",
    " 'Measurement Inequality',\n",
    " 'Quantitative measurement',\n",
    " 'Units',\n",
    " 'Allele Name',\n",
    " 'MHC allele class',\n",
    " 'Ref Type',\n",
    " 'Ref Date',\n",
    " 'Ref Title',\n",
    " 'Assay Method/Technique',\n",
    " 'Assay Group',\n",
    " 'Host Name']\n",
    "\n",
    " # 输入与输出路径\n",
    "IEDB_origin = '/mnt/zt/Dopaap/original_data/2021_mhc_ligand_table_export_1708357594.csv' \n",
    "IEDB_ori_need = '/mnt/zt/Dopaap/calculate_webtools_score/newdatalist/data/2021_IEDB_.csv'\n"
   ]
  },
  {
   "cell_type": "code",
   "execution_count": null,
   "metadata": {},
   "outputs": [],
   "source": [
    "# 分别获取原始文件需要的标签。存至“IEDB_ori_need_Data”\n",
    "for file in os.listdir(IEDB_origin):\n",
    "    print(file)\n",
    "    df = pd.read_csv(os.path.join(IEDB_origin,file))\n",
    "    df_need = df[columns_ls]\n",
    "    df_need.columns = [new_columns_ls]\n",
    "    df_need.to_csv(os.path.join(IEDB_ori_need,file),index=0)"
   ]
  },
  {
   "cell_type": "code",
   "execution_count": 5,
   "metadata": {},
   "outputs": [],
   "source": [
    "# 将处理后的7个文件整合成一个文件，命名为“IEDB_Data_2016&earlier.csv”\n",
    "\n",
    "in_File = IEDB_ori_need\n",
    "out_File = '/raid/hly/PK-3[2018PLOS]/data'\n",
    "\n",
    "in_files = os.listdir(in_File)\n",
    "with open(os.path.join(out_File, 'IEDB_Data_2016&earlier.csv'), 'w+') as f_out:\n",
    "    for f in in_files:\n",
    "        with open(os.path.join(in_File, f), 'r') as f_in:\n",
    "            if f == in_files[0]:\n",
    "                data = f_in.readlines()\n",
    "            else:\n",
    "                data = f_in.readlines()[1:]\n",
    "            data[-1] = data[-1][:-1]        # 用于去除相邻数据集拼接时的缝隙\n",
    "            print(''.join(data), file=f_out)"
   ]
  },
  {
   "cell_type": "markdown",
   "metadata": {},
   "source": [
    "对“IEDB_all_Data_2016&earlier.csv”，删除不需要数据"
   ]
  },
  {
   "cell_type": "code",
   "execution_count": 6,
   "metadata": {},
   "outputs": [
    {
     "name": "stderr",
     "output_type": "stream",
     "text": [
      "/raid/hly/CODE/miniconda3/envs/vaccin/lib/python3.6/site-packages/IPython/core/interactiveshell.py:3072: DtypeWarning: Columns (2,4) have mixed types. Specify dtype option on import or set low_memory=False.\n",
      "  interactivity=interactivity, compiler=compiler, result=result)\n"
     ]
    }
   ],
   "source": [
    "#读取文件\n",
    "df_all = pd.read_csv('/raid/hly/PK-3[2018PLOS]/data/IEDB_all_Data_2016&earlier.csv')\n",
    "\n",
    "# 筛选出“Ref_Date<=2016” 的条目\n",
    "df_Date = df_all[df_all['Ref Date'] <= 2016]\n",
    "\n",
    "# 筛选出有measurement标签的数值\n",
    "df_QM = df_Date[pd.notnull(df_Date['Quantitative measurement'])]\n",
    "\n",
    "#保留规范化的多肽序列（不含符号且不含'BXJZ'）\n",
    "    # 删除seq含'-'或' '的行\n",
    "df1 = df_QM.drop(index=(df_QM.loc[(df_QM['Description'].str.contains('-'))].index))\n",
    "df2 = df1.drop(index=(df1.loc[(df1['Description'].str.contains(' '))].index))\n",
    "    # 删除seq含'BXJZ'的行\n",
    "df3 = df2.drop(index=(df2.loc[(df2['Description'].str.contains('B'))].index))\n",
    "df4 = df3.drop(index=(df3.loc[(df3['Description'].str.contains('X'))].index))\n",
    "df5 = df4.drop(index=(df4.loc[(df4['Description'].str.contains('J'))].index))\n",
    "df6 = df5.drop(index=(df5.loc[(df5['Description'].str.contains('Z'))].index))\n",
    "\n",
    "# 筛选出精确的allele name（含'HLA'，'：'） \n",
    "df_QM = df6.loc[(df6['Allele Name'].str.contains('HLA'))]\n",
    "df_QM = df_QM.loc[(df_QM['Allele Name'].str.contains(\":\"))]\n"
   ]
  },
  {
   "cell_type": "code",
   "execution_count": 7,
   "metadata": {},
   "outputs": [],
   "source": [
    "# 删去assay group 不为 “KD”及 “IC50”，“EC50”相关的条目\n",
    "    #删去 assay group为 3D structure 的条目\n",
    "df_assay_1 = df_QM.drop(index=(df_QM.loc[(df_QM['Assay Group']== '3D structure' )].index))\n",
    "    #删去 assay group为 50% dissociation temperature 的条目\n",
    "df_assay_2 = df_assay_1.drop(index=(df_assay_1.loc[(df_assay_1['Assay Group']== '50% dissociation temperature' )].index))\n",
    "    #删去 assay group为 half life 的条目\n",
    "df_assay_3 = df_assay_2.drop(index=(df_assay_2.loc[(df_assay_2['Assay Group']== 'half life' )].index))\n",
    "     #删去 assay group为 off rate 的条目\n",
    "df_assay_4 = df_assay_3.drop(index=(df_assay_3.loc[(df_assay_3['Assay Group']== 'off rate' )].index))\n",
    "    #删去 assay group为 on rate 的条目\n",
    "df_assay_5 = df_assay_4.drop(index=(df_assay_4.loc[(df_assay_4['Assay Group']== 'on rate' )].index))\n",
    "    #删去 assay group为 qualitative binding 的条目\n",
    "df_assay_6 = df_assay_5.drop(index=(df_assay_5.loc[(df_assay_5['Assay Group']== 'qualitative binding' )].index))"
   ]
  },
  {
   "cell_type": "code",
   "execution_count": 6,
   "metadata": {},
   "outputs": [],
   "source": [
    "# 删去'Measurement Inequality'为'>','<','>=','<='的行\n",
    "df_MI_1 = df_assay_6.drop(index=(df_assay_6.loc[(df_assay_6['Measurement Inequality']== '>' )].index))\n",
    "df_MI_2 = df_MI_1.drop(index=(df_MI_1.loc[(df_MI_1['Measurement Inequality']== '<' )].index))\n",
    "df_MI_3 = df_MI_2.drop(index=(df_MI_2.loc[(df_MI_2['Measurement Inequality']== '>=' )].index))\n",
    "df_MI_4 = df_MI_3.drop(index=(df_MI_3.loc[(df_MI_3['Measurement Inequality']== '<=' )].index))\n",
    "\n",
    "# 去除活性值大于50000的条目\n",
    "df_QM = df_MI_4.drop(index=(df_MI_4.loc[(df_MI_4['Quantitative measurement'] > 50000)].index))"
   ]
  },
  {
   "cell_type": "code",
   "execution_count": 9,
   "metadata": {},
   "outputs": [],
   "source": [
    "# 数据标准化 【1-log10(IC50)/log10(50000 nM)】 ,IC50单位为nM\n",
    "df_QM[\"Normalized_QM\"] = 1-(df_QM[\"Quantitative measurement\"].apply(np.log10))/np.log10(50000)\n",
    "\n",
    "# 重置索引并保存文件\n",
    "df_QM = df_QM.reset_index(drop = True)\n",
    "\n",
    "df_QM.to_csv('/raid/hly/PK-3[2018PLOS]/data/IEDB_QM_nodel_reftitle_2016&earlier.csv') "
   ]
  },
  {
   "cell_type": "code",
   "execution_count": 8,
   "metadata": {},
   "outputs": [],
   "source": [
    "# 去除“reference Title”为“Quantitating T cell cross-reactivity for unrelated peptide antigens.”的条目。\n",
    "df_QM = df_QM.drop(index=(df_QM.loc[(df_QM['Ref Title']== 'Quantitating T cell cross-reactivity for unrelated peptide antigens.' )].index))\n",
    "df_QM.to_csv('/raid/hly/PK-3[2018PLOS]/data/IEDB_QM_2016&earlier.csv') "
   ]
  },
  {
   "cell_type": "code",
   "execution_count": 37,
   "metadata": {},
   "outputs": [],
   "source": [
    "# #从df_QM中，取出 assay group 为IC50 的数据。\n",
    "# df_QM = pd.read_csv('/raid/hly/PK-3[2018PLOS]/data/IEDB_QM_2016&earlier.csv',index_col = 0)\n",
    "# df_IC50_1 = df_QM[df_QM['Assay Group'] == 'half maximal inhibitory concentration (IC50)']\n",
    "# df_IC50_2 = df_QM[df_QM['Assay Group'] == 'dissociation constant KD (~IC50)']\n",
    "# df_IC50 = df_IC50_1.append(df_IC50_2)\n",
    "# df_IC50.to_csv('/raid/hly/PK-3[2018PLOS]/data/IEDB_QM-IC50_2016&earlier.csv',index = 0) "
   ]
  },
  {
   "cell_type": "markdown",
   "metadata": {},
   "source": [
    "划分allele，合并mutant。"
   ]
  },
  {
   "cell_type": "code",
   "execution_count": 20,
   "metadata": {},
   "outputs": [],
   "source": [
    "df_QM = pd.read_csv('/raid/hly/PK-3[2018PLOS]/data/IEDB_QM_2016&earlier.csv',index_col=0)"
   ]
  },
  {
   "cell_type": "code",
   "execution_count": 21,
   "metadata": {},
   "outputs": [],
   "source": [
    "# 分allele\n",
    "out_dir = '/raid/hly/PK-3[2018PLOS]/data/IEDB_allele_QM_2016&earlier'\n",
    "for name, group in df_QM.groupby('Allele Name') :\n",
    "    # 替换符号，如将/替换成&\n",
    "    name = name.replace('/', '&')\n",
    "    name = name.replace('*','_')\n",
    "    name = name.replace(':','')\n",
    "    pd.DataFrame(group).to_csv(os.path.join(out_dir,name+'.csv'))"
   ]
  },
  {
   "cell_type": "code",
   "execution_count": 22,
   "metadata": {},
   "outputs": [],
   "source": [
    "# 将mutant文件与上一级文件拼接\n",
    "df1 = pd.read_csv('/raid/hly/PK-3[2018PLOS]/data/IEDB_allele_QM_2016&earlier-mutant/HLA-DRA_0101&DRB1_0101.csv')\n",
    "df2 = pd.read_csv('/raid/hly/PK-3[2018PLOS]/data/IEDB_allele_QM_2016&earlier-mutant/HLA-DRA_0101&DRB1_0101 C30S mutant.csv')\n",
    "df3 = pd.read_csv('/raid/hly/PK-3[2018PLOS]/data/IEDB_allele_QM_2016&earlier-mutant/HLA-DRA_0101&DRB1_0101 G86Y mutant.csv')\n",
    "\n",
    "\n",
    "df0 = df1.append([df2,df3])\n",
    "df0.to_csv('/raid/hly/PK-3[2018PLOS]/data/IEDB_allele_QM_2016&earlier/HLA-DRA_0101&DRB1_0101.csv')"
   ]
  },
  {
   "cell_type": "code",
   "execution_count": 23,
   "metadata": {},
   "outputs": [],
   "source": [
    "# 将mutant文件与上一级文件拼接\n",
    "df1 = pd.read_csv('/raid/hly/PK-3[2018PLOS]/data/IEDB_allele_QM_2016&earlier-mutant/HLA-DRB1_0101.csv')\n",
    "df2 = pd.read_csv('/raid/hly/PK-3[2018PLOS]/data/IEDB_allele_QM_2016&earlier-mutant/HLA-DRB1_0101 D57A mutant.csv')\n",
    "df3 = pd.read_csv('/raid/hly/PK-3[2018PLOS]/data/IEDB_allele_QM_2016&earlier-mutant/HLA-DRB1_0101 D57A, Y60H mutant.csv')\n",
    "df4 = pd.read_csv('/raid/hly/PK-3[2018PLOS]/data/IEDB_allele_QM_2016&earlier-mutant/HLA-DRB1_0101 D57V mutant.csv')\n",
    "df5 = pd.read_csv('/raid/hly/PK-3[2018PLOS]/data/IEDB_allele_QM_2016&earlier-mutant/HLA-DRB1_0101 D57V, Y60S mutant.csv')\n",
    "\n",
    "\n",
    "df0 = df1.append([df2,df3,df4,df5])\n",
    "df0.to_csv('/raid/hly/PK-3[2018PLOS]/data/IEDB_allele_QM_2016&earlier/HLA-DRB1_0101.csv')"
   ]
  },
  {
   "cell_type": "markdown",
   "metadata": {},
   "source": [
    "获得PK-3的基准数据集。"
   ]
  },
  {
   "cell_type": "code",
   "execution_count": 29,
   "metadata": {},
   "outputs": [],
   "source": [
    "txt_dir = '/raid/hly/PK-3[2018PLOS]/data/PK-3_benchmark_data/txt/class-II_15mer'\n",
    "csv_dir = '/raid/hly/PK-3[2018PLOS]/data/PK-3_benchmark_data'\n",
    "for file in os.listdir(txt_dir):\n",
    "## 对于 class-I\n",
    "    # file_name = file.replace('%2A','_')\n",
    "    # file_name = file_name.replace('%3A','')\n",
    "    # file_name = file_name.replace('txt','csv')\n",
    "    \n",
    "# 对于 class-II\n",
    "    file_values = file.split('-')\n",
    "    if len(file_values) == 3:\n",
    "        # 在allele中插入‘_’\n",
    "        file_value1 = list(file_values[1])\n",
    "        file_value1.insert(4,'_')           #在第一个allele的第5位插入'_'\n",
    "        file_value1 = ''.join(file_value1)\n",
    "\n",
    "        file_value2 = list(file_values[2])\n",
    "        file_value2.insert(4,'_')           #在第二个allele的第5位插入'_'\n",
    "        file_value2 = ''.join(file_value2)\n",
    "\n",
    "        file_name = file_values[0] + '-' + file_value1 + '&' + file_value2\n",
    "        file_name = file_name.replace('txt','csv')\n",
    "\n",
    "    if len(file_values) == 2:\n",
    "        # 在allele中插入‘_’\n",
    "        file_value1 = list(file_values[1])\n",
    "        file_value1.insert(4,'_')           #在第一个allele的第5位插入'_'\n",
    "        file_value1 = ''.join(file_value1)\n",
    "\n",
    "        file_name = file_values[0] + '-' + file_value1\n",
    "        file_name = file_name.replace('txt','csv')\n",
    "\n",
    "    # 获得基准数据集的csv文件。  \n",
    "    ls_out=[]\n",
    "    \n",
    "    #打开并整理文件\n",
    "    with open(os.path.join(txt_dir,file),'r')as df_in:\n",
    "        #读每一行\n",
    "        for line in df_in:\n",
    "            ls_in = line.strip().split('\\t')    #\".strip()\",清除前后空格\n",
    "            ls_out.append(ls_in)\n",
    "            \n",
    "    df_in.close()\n",
    "\n",
    "    #生成dataframe,加入标准化的QM值\n",
    "    df_out = pd.DataFrame(ls_out)\n",
    "    df_out.columns = ['Description','Quantitative measurement(nm)']\n",
    "    # 将'Quantitative measurement(nm)'列的数据类型转换为“float”\n",
    "    def format(value):\n",
    "        value = float(value)\n",
    "        return value\n",
    "    df_out['Quantitative measurement(nm)'] = df_out['Quantitative measurement(nm)'].apply(format)\n",
    "    # 数据标准化 【1-log10(IC50)/log10(50000 nM)】 ,IC50单位为nM\n",
    "    df_out[\"Normalized_QM\"] =  1-(df_QM[\"Quantitative measurement\"].apply(np.log10))/np.log10(50000)\n",
    "\n",
    "    #储存文件\n",
    "    df_out.to_csv(os.path.join(csv_dir,file_name),index=0) "
   ]
  },
  {
   "cell_type": "markdown",
   "metadata": {},
   "source": [
    "获得PK-3训练集数据--\n",
    "    1) 去重。对于IEDB（before&2016）数据，重复序列取中值\n",
    "    2）IEDB（before&2016）数据 - 基准数据集。"
   ]
  },
  {
   "cell_type": "code",
   "execution_count": 22,
   "metadata": {},
   "outputs": [
    {
     "name": "stderr",
     "output_type": "stream",
     "text": [
      "/raid/hly/CODE/miniconda3/envs/vaccin/lib/python3.6/site-packages/ipykernel_launcher.py:31: SettingWithCopyWarning: \n",
      "A value is trying to be set on a copy of a slice from a DataFrame\n",
      "\n",
      "See the caveats in the documentation: http://pandas.pydata.org/pandas-docs/stable/user_guide/indexing.html#returning-a-view-versus-a-copy\n",
      "/raid/hly/CODE/miniconda3/envs/vaccin/lib/python3.6/site-packages/ipykernel_launcher.py:49: FutureWarning: Sorting because non-concatenation axis is not aligned. A future version\n",
      "of pandas will change to not sort by default.\n",
      "\n",
      "To accept the future behavior, pass 'sort=False'.\n",
      "\n",
      "To retain the current behavior and silence the warning, pass 'sort=True'.\n",
      "\n"
     ]
    }
   ],
   "source": [
    "QM_dir = '/raid/hly/PK-3[2018PLOS]/data/IEDB_allele_QM_2016&earlier'\n",
    "benchmark_dir = '/raid/hly/PK-3[2018PLOS]/data/PK-3_benchmark_data'\n",
    "out_MID_dir = '/raid/hly/PK-3[2018PLOS]/data/train_data-MID'\n",
    "\n",
    "for file in os.listdir(QM_dir):\n",
    "    if os.path.exists(os.path.join(benchmark_dir,file)) :\n",
    "        df = pd.read_csv(os.path.join(QM_dir,file),index_col=0)\n",
    "\n",
    "#### 去重,取中值\n",
    "        #按 Description列排序\n",
    "        df.sort_values(by='Description',axis=0,ascending='True', inplace=True)\n",
    "\n",
    "        #重置索引\n",
    "        df = df.reset_index(drop = True)\n",
    "\n",
    "        #创建新表，用来保存有重复的Description及其对应的measurement中位数\n",
    "        df_uniq = pd.DataFrame(columns = ['Description','Normalized_QM'])\n",
    "\n",
    "        #获得所有重复的 Description及其 measurement的中位数\n",
    "        j = 1\n",
    "\n",
    "        # Do not use parallel!!使用并行会出错！\n",
    "        for i in range(0, len(df)):\n",
    "            if(i == 0 or df['Description'][i] != df['Description'][i-1]):\n",
    "                #取出所有Description==df['Description'][i]的行\n",
    "                df_tmp = df[df['Description'] == df['Description'][i]]\n",
    "                \n",
    "                if(len(df_tmp) > 0):\n",
    "                    df_tmp.sort_values(by='Normalized_QM',axis=0,ascending='True', inplace=True)\n",
    "\n",
    "                    df_tmp = df_tmp.reset_index(drop = True)\n",
    "\n",
    "                    index = math.ceil(len(df_tmp) / 2) - 1\n",
    "                    measurement = df_tmp['Normalized_QM'][index]\n",
    "                    df_uniq = df_uniq.append({'Description':df['Description'][i],'Normalized_QM':measurement}, ignore_index=True)\n",
    "\n",
    "        df = df.drop_duplicates(subset = ['Description'], keep = 'first')\n",
    "        df = df.reset_index(drop = True)\n",
    "\n",
    "        # 重新确认。在df中找到与df_unique相同的Description和对应Quantitative measurement值\n",
    "        for i in range(0, len(df_uniq)):\n",
    "            df.loc[df['Description'] == df_uniq['Description'][i], ['Normalized_QM']] = df_uniq['Normalized_QM'][i]\n",
    "\n",
    "#### 求差集\n",
    "        dfI = df\n",
    "        dfB = pd.read_csv(os.path.join(benchmark_dir,file))\n",
    "        diff_df = pd.concat([dfI, dfB, dfB]).drop_duplicates(subset='Description',keep=False)\n",
    "\n",
    "        diff_df.drop(columns='Quantitative measurement(nm)',inplace=True)\n",
    "\n",
    "        diff_df.to_csv(os.path.join(out_MID_dir,file),index=0)\n",
    "        "
   ]
  },
  {
   "cell_type": "markdown",
   "metadata": {},
   "source": [
    "数据统计"
   ]
  },
  {
   "cell_type": "code",
   "execution_count": 25,
   "metadata": {},
   "outputs": [],
   "source": [
    "import pandas as pd\n",
    "#统计了各数据集的条目数，多肽长度的最值，活性值最值，标准化活性值的最值。\n",
    "\n",
    "files_dir = '/raid/hly/PK-3[2018PLOS]/data/train_data-MID'\n",
    "files = os.listdir(files_dir)\n",
    "statistic = []\n",
    "for file in files:\n",
    "    df = pd.read_csv(os.path.join(files_dir,file))\n",
    "    file_name = file.split('.')[0]\n",
    "    # 条目数\n",
    "    pep_num = len(df)\n",
    "\n",
    "    #多肽长度范围\n",
    "    pep_len_min = min(map(len,df['Description']))\n",
    "    pep_len_max = max(map(len,df['Description']))\n",
    "\n",
    "    #QM范围\n",
    "    QM_min = min(df['Quantitative measurement'])\n",
    "    QM_max = max(df['Quantitative measurement'])\n",
    "    \n",
    "    #log_QM范围\n",
    "    Normalized_QM_min = min(df['Normalized_QM'])\n",
    "    Normalized_QM_max = max(df['Normalized_QM'])\n",
    "\n",
    "    statistic.append([file_name,pep_num,pep_len_min,pep_len_max,QM_min,QM_max,Normalized_QM_min,Normalized_QM_max])\n",
    "df_stt = pd.DataFrame(statistic,columns=['HLA-allele','pep_num','pep_len_min','pep_len_max','QM_min','QM_max','Normalized_QM_min','Normalized_QM_max'])\n",
    "df_stt.sort_values(by='pep_num',axis=0,ascending=False, inplace=True)\n",
    "df_stt = df_stt.reset_index(drop = True)\n",
    "df_stt.to_csv('/raid/hly/PK-3[2018PLOS]/data/train_data-MID_statistics220513.csv')"
   ]
  },
  {
   "cell_type": "code",
   "execution_count": 2,
   "metadata": {},
   "outputs": [],
   "source": [
    "import pandas as pd\n",
    "#统计了各数据集的条目数，多肽长度的最值，活性值最值，标准化活性值的最值。\n",
    "\n",
    "files_dir = '/raid/hly/PK-3[2018PLOS]/data/PK-3_benchmark_data'\n",
    "files = os.listdir(files_dir)\n",
    "statistic = []\n",
    "for file in files:\n",
    "    df = pd.read_csv(os.path.join(files_dir,file))\n",
    "    file_name = file.split('.')[0]\n",
    "    # 条目数\n",
    "    pep_num = len(df)\n",
    "\n",
    "    #多肽长度范围\n",
    "    pep_len_min = min(map(len,df['Description']))\n",
    "    pep_len_max = max(map(len,df['Description']))\n",
    "\n",
    "    #QM范围\n",
    "    QM_min = min(df['Quantitative measurement(nm)'])\n",
    "    QM_max = max(df['Quantitative measurement(nm)'])\n",
    "    \n",
    "    #log_QM范围\n",
    "    Normalized_QM_min = min(df['Normalized_QM'])\n",
    "    Normalized_QM_max = max(df['Normalized_QM'])\n",
    "\n",
    "    statistic.append([file_name,pep_num,pep_len_min,pep_len_max,QM_min,QM_max,Normalized_QM_min,Normalized_QM_max])\n",
    "df_stt = pd.DataFrame(statistic,columns=['HLA-allele','pep_num','pep_len_min','pep_len_max','QM_min','QM_max','Normalized_QM_min','Normalized_QM_max'])\n",
    "df_stt.sort_values(by='pep_num',axis=0,ascending=False, inplace=True)\n",
    "df_stt = df_stt.reset_index(drop = True)\n",
    "df_stt.to_csv('/raid/hly/PK-3[2018PLOS]/data/benchmark_data_statistics220513-1.csv')"
   ]
  },
  {
   "cell_type": "markdown",
   "metadata": {},
   "source": [
    "整合结果"
   ]
  },
  {
   "cell_type": "code",
   "execution_count": 4,
   "metadata": {},
   "outputs": [],
   "source": [
    "alldata_res = {}\n",
    "\n",
    "res_files = '/raid/hly/PK-3[2018PLOS]/R1-res'\n",
    "\n",
    "for c in ['class_2-DP&DQ', 'class_2-DR', 'class_1']:    \n",
    "    c_dir = os.path.join(res_files,c)\n",
    "    for Allele in os.listdir(c_dir):\n",
    "        # print(Allele)\n",
    "        res_file = pd.read_csv(os.path.join(c_dir,Allele) + '/results/' + Allele +'ksfir_lamda_results.csv',index_col=0)\n",
    "        alldata_res[Allele] = res_file.iloc[0]\n",
    "        df_alldata_res = pd.DataFrame(alldata_res).T\n"
   ]
  },
  {
   "cell_type": "markdown",
   "metadata": {},
   "source": [
    "与统计数据拼接"
   ]
  },
  {
   "cell_type": "code",
   "execution_count": 10,
   "metadata": {},
   "outputs": [],
   "source": [
    "df_sta = pd.read_csv('/raid/hly/PK-3[2018PLOS]/data/train_data-MID_statistics220513.csv',index_col=1)\n",
    "df_sta = df_sta.iloc[:,1:]                    #here\n",
    "df = pd.merge(df_sta,df_alldata_res,how='inner',left_index=True,right_index=True)\n",
    "df.sort_values(by='valid_r2',axis=0,ascending=False, inplace=True)"
   ]
  },
  {
   "cell_type": "code",
   "execution_count": 15,
   "metadata": {},
   "outputs": [],
   "source": [
    "df.to_csv('/raid/hly/PK-3[2018PLOS]/R1-res/results_R1.csv')"
   ]
  },
  {
   "cell_type": "markdown",
   "metadata": {},
   "source": [
    "计算基准测试集的 R2 --class I"
   ]
  },
  {
   "cell_type": "code",
   "execution_count": 11,
   "metadata": {},
   "outputs": [],
   "source": [
    "# 拼接基准测试集的预测结果\n",
    "res_files = '/raid/hly/PK-3[2018PLOS]/R1-res'\n",
    "df_allpred_1 = pd.DataFrame()\n",
    "for c in ['class_1']:   \n",
    "    c_dir = os.path.join(res_files,c)\n",
    "    for Allele in os.listdir(c_dir):\n",
    "        pred_file = pd.read_csv(os.path.join(c_dir,Allele) + '/' + Allele +'true_pred.csv',index_col=0)\n",
    "        pred_file['Allele'] = Allele \n",
    "        df_allpred_1 = df_allpred_1.append(pred_file)"
   ]
  },
  {
   "cell_type": "code",
   "execution_count": 12,
   "metadata": {},
   "outputs": [],
   "source": [
    "df_allpred_1.to_csv('/raid/hly/PK-3[2018PLOS]/R1-res/predresults_class1_R1.csv',index=0)"
   ]
  },
  {
   "cell_type": "code",
   "execution_count": 17,
   "metadata": {},
   "outputs": [
    {
     "data": {
      "text/plain": [
       "0.6514996125179743"
      ]
     },
     "execution_count": 17,
     "metadata": {},
     "output_type": "execute_result"
    }
   ],
   "source": [
    "# 计算R2\n",
    "from sklearn.metrics import r2_score\n",
    "import pandas as pd\n",
    "df_allpred_1 = pd.read_csv('/raid/hly/PK-3[2018PLOS]/R1-res/predresults_class1_R1.csv')\n",
    "\n",
    "y_true = df_allpred_1['Normalized_QM'].to_list()\n",
    "y_pred = df_allpred_1['Pred_QM'].to_list()\n",
    "r2_score(y_true, y_pred)"
   ]
  },
  {
   "cell_type": "markdown",
   "metadata": {},
   "source": [
    "计算基准测试集的 R2 --class II"
   ]
  },
  {
   "cell_type": "code",
   "execution_count": 21,
   "metadata": {},
   "outputs": [],
   "source": [
    "# 拼接基准测试集的预测结果\n",
    "res_files = '/raid/hly/PK-3[2018PLOS]/R1-res'\n",
    "df_allpred_2 = pd.DataFrame()\n",
    "for c in ['class_2-DP&DQ', 'class_2-DR']:   \n",
    "    c_dir = os.path.join(res_files,c)\n",
    "    for Allele in os.listdir(c_dir):\n",
    "        pred_file = pd.read_csv(os.path.join(c_dir,Allele) + '/' + Allele +'true_pred.csv',index_col=0)\n",
    "        pred_file['Allele'] = Allele \n",
    "        df_allpred_2 = df_allpred_2.append(pred_file)"
   ]
  },
  {
   "cell_type": "code",
   "execution_count": 22,
   "metadata": {},
   "outputs": [],
   "source": [
    "df_allpred_2.to_csv('/raid/hly/PK-3[2018PLOS]/R1-res/predresults_class2_R1.csv',index=0)"
   ]
  },
  {
   "cell_type": "code",
   "execution_count": 23,
   "metadata": {},
   "outputs": [
    {
     "data": {
      "text/plain": [
       "0.4968120922209107"
      ]
     },
     "execution_count": 23,
     "metadata": {},
     "output_type": "execute_result"
    }
   ],
   "source": [
    "# 计算R2\n",
    "from sklearn.metrics import r2_score\n",
    "import pandas as pd\n",
    "df_allpred_2 = pd.read_csv('/raid/hly/PK-3[2018PLOS]/R1-res/predresults_class2_R1.csv')\n",
    "\n",
    "y_true = df_allpred_2['Normalized_QM'].to_list()\n",
    "y_pred = df_allpred_2['Pred_QM'].to_list()\n",
    "r2_score(y_true, y_pred)"
   ]
  },
  {
   "cell_type": "markdown",
   "metadata": {},
   "source": [
    "round2_class2--计算基准测试集R2"
   ]
  },
  {
   "cell_type": "code",
   "execution_count": 23,
   "metadata": {},
   "outputs": [],
   "source": [
    "#拼接各个实验的结果\n",
    "ls_res = []\n",
    "round2_file = '/raid/hly/PK-3[2018PLOS]/R2-res'\n",
    "for expt in ['expt-COV','expt-FC_1',\"expt-FC_2\",'expt-KN']:\n",
    "    expt_name = expt.split('-')[1]\n",
    "    expt_file = os.path.join(round2_file,expt)\n",
    "    for allele in os.listdir(expt_file):\n",
    "        allele_file = os.path.join(expt_file,allele)   \n",
    "        res_file = pd.read_csv(os.path.join(allele_file,'results') + '/' + allele +'_'+expt_name+'_results.csv',index_col=0)\n",
    "        obj = allele,expt_name,res_file['valid_r2'][0]\n",
    "        ls_res.append(obj)\n",
    "df_res = pd.DataFrame(ls_res)\n",
    "df_res.columns = ['Allele','expt','test_r2']\n",
    "df_res.to_csv('/raid/hly/PK-3[2018PLOS]/R2-res/R2_res.csv')"
   ]
  },
  {
   "cell_type": "code",
   "execution_count": 28,
   "metadata": {},
   "outputs": [],
   "source": [
    "# 筛选出要在 R2 中获得的结果\n",
    "# ls_inR2 = ['HLA-DQA1_0102&DQB1_0602-COV','HLA-DRB1_0101-KN','HLA-DRB1_0401-KN',\"HLA-DRB1_0404-COV\",\n",
    "# 'HLA-DRB1_0701-COV',\"HLA-DRB1_1501-KN\",'HLA-DRB3_0101-KN','HLA-DRB4_0101-KN']\n",
    "ls_inR2_COV = ['HLA-DQA1_0102&DQB1_0602','HLA-DRB1_0404','HLA-DRB1_0701']\n",
    "ls_inR2_KN = ['HLA-DRB1_0101','HLA-DRB1_0401','HLA-DRB1_1501','HLA-DRB3_0101','HLA-DRB4_0101']\n"
   ]
  },
  {
   "cell_type": "code",
   "execution_count": 38,
   "metadata": {},
   "outputs": [],
   "source": [
    "# 拼接基准测试集的预测结果\n",
    "r1_files = '/raid/hly/PK-3[2018PLOS]/R1-res'\n",
    "r2_files = '/raid/hly/PK-3[2018PLOS]/R2-res'\n",
    "df_allpred_r2 = pd.DataFrame()\n",
    "for c in ['class_2-DP&DQ', 'class_2-DR']:   \n",
    "    c_dir = os.path.join(r1_files,c)\n",
    "    for Allele in os.listdir(c_dir):\n",
    "        if (Allele in ls_inR2_COV) or (Allele in ls_inR2_KN) :\n",
    "            if Allele in ls_inR2_COV:\n",
    "                expt = 'expt-COV'\n",
    "                expt_file = os.path.join(r2_files,expt)\n",
    "                pred_file = pd.read_csv(os.path.join(expt_file,Allele) + '/' +Allele +'true_pred.csv',index_col=0)\n",
    "                pred_file['Allele'] = Allele \n",
    "                df_allpred_r2 = df_allpred_r2.append(pred_file)\n",
    "            if Allele in ls_inR2_KN:\n",
    "                expt = 'expt-KN'\n",
    "                expt_file = os.path.join(r2_files,expt)\n",
    "                pred_file = pd.read_csv(os.path.join(expt_file,Allele) + '/' +Allele +'true_pred.csv',index_col=0)\n",
    "                pred_file['Allele'] = Allele \n",
    "                df_allpred_r2 = df_allpred_r2.append(pred_file)\n",
    "        else:\n",
    "            pred_file = pd.read_csv(os.path.join(c_dir,Allele) + '/' + Allele +'true_pred.csv',index_col=0)\n",
    "            pred_file['Allele'] = Allele \n",
    "            df_allpred_r2 = df_allpred_r2.append(pred_file)"
   ]
  },
  {
   "cell_type": "code",
   "execution_count": 40,
   "metadata": {},
   "outputs": [],
   "source": [
    "df_allpred_r2.to_csv('/raid/hly/PK-3[2018PLOS]/R2-res/predresults_class2_R2.csv',index=0)"
   ]
  },
  {
   "cell_type": "code",
   "execution_count": 41,
   "metadata": {},
   "outputs": [
    {
     "data": {
      "text/plain": [
       "0.5169770690765987"
      ]
     },
     "execution_count": 41,
     "metadata": {},
     "output_type": "execute_result"
    }
   ],
   "source": [
    "# 计算R2\n",
    "from sklearn.metrics import r2_score\n",
    "import pandas as pd\n",
    "df_allpred_r2 = pd.read_csv('/raid/hly/PK-3[2018PLOS]/R2-res/predresults_class2_R2.csv')\n",
    "\n",
    "y_true = df_allpred_r2['Normalized_QM'].to_list()\n",
    "y_pred = df_allpred_r2['Pred_QM'].to_list()\n",
    "r2_score(y_true, y_pred)"
   ]
  },
  {
   "cell_type": "markdown",
   "metadata": {},
   "source": [
    "round3_class1--计算基准测试集R2"
   ]
  },
  {
   "cell_type": "code",
   "execution_count": 2,
   "metadata": {},
   "outputs": [],
   "source": [
    "#拼接各个实验的结果\n",
    "ls_res = []\n",
    "round3_file = '/raid/hly/PK-3[2018PLOS]/R3-res'\n",
    "for expt in ['expt-COV-KN']:\n",
    "    expt_name = expt.split('-')[1]\n",
    "    expt_file = os.path.join(round3_file,expt)\n",
    "    for allele in os.listdir(expt_file):\n",
    "        allele_file = os.path.join(expt_file,allele)   \n",
    "        res_file = pd.read_csv(os.path.join(allele_file,'results') + '/' + allele +'_'+expt_name+'_results.csv',index_col=0)\n",
    "        obj = allele,expt_name,res_file['valid_r2'][0],res_file['kernel_size_1'][0],res_file['kernel_number'][0],res_file['lamda'][0]\n",
    "        ls_res.append(obj)\n",
    "df_res = pd.DataFrame(ls_res)\n",
    "df_res.columns = ['Allele','expt','test_r2','ks_fir','kn','lamda']\n",
    "df_res.to_csv('/raid/hly/PK-3[2018PLOS]/R3-res/R3_res.csv')"
   ]
  },
  {
   "cell_type": "code",
   "execution_count": 3,
   "metadata": {},
   "outputs": [],
   "source": [
    "# 筛选出要在 R3 中获得的结果\n",
    "ls_inR3 = ['HLA-A_0202','HLA-A_0201','HLA-A_3002','HLA-A_0203',\n",
    "'HLA-B_2705','HLA-A_0301','HLA-B_5301','HLA-A_6802','HLA-A_3301']"
   ]
  },
  {
   "cell_type": "code",
   "execution_count": 4,
   "metadata": {},
   "outputs": [],
   "source": [
    "# 拼接基准测试集的预测结果\n",
    "r1_files = '/raid/hly/PK-3[2018PLOS]/R1-res'\n",
    "r3_files = '/raid/hly/PK-3[2018PLOS]/R3-res'\n",
    "df_allpred_r3 = pd.DataFrame()\n",
    "\n",
    "c_dir = os.path.join(r1_files,'class_1')\n",
    "for Allele in os.listdir(c_dir):\n",
    "    if (Allele in ls_inR3) :\n",
    "        expt = 'expt-COV-KN'\n",
    "        expt_file = os.path.join(r3_files,expt)\n",
    "        pred_file = pd.read_csv(os.path.join(expt_file,Allele) + '/' +Allele +'true_pred.csv',index_col=0)\n",
    "        pred_file['Allele'] = Allele \n",
    "        df_allpred_r3 = df_allpred_r3.append(pred_file)\n",
    "    else:\n",
    "        pred_file = pd.read_csv(os.path.join(c_dir,Allele) + '/' + Allele +'true_pred.csv',index_col=0)\n",
    "        pred_file['Allele'] = Allele \n",
    "        df_allpred_r3 = df_allpred_r3.append(pred_file)"
   ]
  },
  {
   "cell_type": "code",
   "execution_count": 6,
   "metadata": {},
   "outputs": [],
   "source": [
    "df_allpred_r3.to_csv('/raid/hly/PK-3[2018PLOS]/predresults_class1_R1+R3.csv',index=0)"
   ]
  },
  {
   "cell_type": "code",
   "execution_count": 5,
   "metadata": {},
   "outputs": [
    {
     "data": {
      "text/plain": [
       "0.6626169644402822"
      ]
     },
     "execution_count": 5,
     "metadata": {},
     "output_type": "execute_result"
    }
   ],
   "source": [
    "# 计算R2\n",
    "from sklearn.metrics import r2_score\n",
    "import pandas as pd\n",
    "# df_allpred_r3 = pd.read_csv('/raid/hly/PK-3[2018PLOS]/R2-res/predresults_class1_R3.csv')\n",
    "\n",
    "y_true = df_allpred_r3['Normalized_QM'].to_list()\n",
    "y_pred = df_allpred_r3['Pred_QM'].to_list()\n",
    "r2_score(y_true, y_pred)"
   ]
  },
  {
   "attachments": {},
   "cell_type": "markdown",
   "metadata": {},
   "source": [
    "2ndexpt(trainvaltest)结果整合与统计"
   ]
  },
  {
   "cell_type": "code",
   "execution_count": 5,
   "metadata": {},
   "outputs": [],
   "source": [
    "# 拼接基准测试集的预测结果\n",
    "res_files = '/raid/hly/PK-3[2018PLOS]/2ndexpt(trainvaltest)/R1-res'\n",
    "df_allpred = pd.DataFrame()\n",
    "for Allele in os.listdir(res_files):\n",
    "    pred_file = pd.read_csv(os.path.join(res_files,Allele) + '/' + Allele +'true_pred.csv',index_col=0)\n",
    "    pred_file['Allele'] = Allele \n",
    "    df_allpred = df_allpred.append(pred_file)\n",
    "df_allpred.to_csv('/raid/hly/PK-3[2018PLOS]/2ndexpt(trainvaltest)/predresults_class1_2nd.csv',index=0)"
   ]
  },
  {
   "cell_type": "code",
   "execution_count": 6,
   "metadata": {},
   "outputs": [
    {
     "data": {
      "text/plain": [
       "0.45434154606391786"
      ]
     },
     "execution_count": 6,
     "metadata": {},
     "output_type": "execute_result"
    }
   ],
   "source": [
    "# 计算R2\n",
    "from sklearn.metrics import r2_score\n",
    "import pandas as pd\n",
    "df_allpred_1 = pd.read_csv('/raid/hly/PK-3[2018PLOS]/2ndexpt(trainvaltest)/predresults_class1_2nd.csv')\n",
    "\n",
    "y_true = df_allpred_1['Normalized_QM'].to_list()\n",
    "y_pred = df_allpred_1['Pred_Norm_QM'].to_list()\n",
    "r2_score(y_true, y_pred)"
   ]
  },
  {
   "cell_type": "code",
   "execution_count": 8,
   "metadata": {},
   "outputs": [],
   "source": [
    "alldata_res = {}\n",
    "\n",
    "res_files = '/raid/hly/PK-3[2018PLOS]/2ndexpt(trainvaltest)/R1-res'\n",
    "for Allele in os.listdir(res_files):\n",
    "    # print(Allele)\n",
    "    res_file = pd.read_csv(os.path.join(res_files,Allele) + '/results/' + Allele +'_2nd_results.csv',index_col=0)\n",
    "    alldata_res[Allele] = res_file.iloc[0]\n",
    "    df_alldata_res = pd.DataFrame(alldata_res).T\n",
    "\n",
    "df_sta = pd.read_csv('/raid/hly/PK-3[2018PLOS]/data/train_data-MID_statistics220513.csv',index_col=1)\n",
    "df_sta = df_sta.iloc[:,1:]                    #here\n",
    "df = pd.merge(df_sta,df_alldata_res,how='inner',left_index=True,right_index=True)\n",
    "df.sort_values(by='valid_r2',axis=0,ascending=False, inplace=True)\n",
    "\n",
    "df.to_csv('/raid/hly/PK-3[2018PLOS]/2ndexpt(trainvaltest)/results_2nd.csv')"
   ]
  },
  {
   "attachments": {},
   "cell_type": "markdown",
   "metadata": {},
   "source": [
    "3nd"
   ]
  },
  {
   "cell_type": "code",
   "execution_count": 2,
   "metadata": {},
   "outputs": [],
   "source": [
    "import pandas as pd\n",
    "import numpy as np\n",
    "import os\n",
    "import math\n",
    "import scipy.stats\n",
    "def PCC(y_pred,y_true):\n",
    "    diff_pred,diff_true=y_pred-np.mean(y_pred),y_true-np.mean(y_true)\n",
    "    return np.sum(diff_pred*diff_true)/np.sqrt(np.sum(diff_pred**2)*np.sum(diff_true**2))"
   ]
  },
  {
   "cell_type": "code",
   "execution_count": null,
   "metadata": {},
   "outputs": [],
   "source": [
    "alldata_res = {}\n",
    "\n",
    "res_files = '/raid/hly/PK-3[2018PLOS]/no_spec_mass/Res'\n",
    "for Allele in os.listdir(res_files):\n",
    "    # print(Allele)\n",
    "    res_file = pd.read_csv(os.path.join(res_files,Allele) + '/results/' + Allele +'_noMS_results.csv',index_col=0)\n",
    "    alldata_res[Allele] = res_file.iloc[0]\n",
    "    df_alldata_res = pd.DataFrame(alldata_res).T\n",
    "\n",
    "df_alldata_res.to_csv('/raid/hly/PK-3[2018PLOS]/no_spec_mass/pred_true/results_noMS_1.csv')"
   ]
  },
  {
   "cell_type": "code",
   "execution_count": 3,
   "metadata": {},
   "outputs": [],
   "source": [
    "# 拼接基准测试集的预测结果\n",
    "res_files = '/raid/hly/PK-3[2018PLOS]/no_spec_mass/Res'\n",
    "df_allpred = pd.DataFrame()\n",
    "for Allele in os.listdir(res_files):\n",
    "    pred_file = pd.read_csv(os.path.join(res_files,Allele) + '/' + Allele +'true_pred.csv',index_col=0)\n",
    "    pred_file['Allele'] = Allele \n",
    "    df_allpred = df_allpred.append(pred_file)\n",
    "df_allpred.to_csv('/raid/hly/PK-3[2018PLOS]/no_spec_mass/pred_true/predresults_noMS_1.csv',index=0)"
   ]
  },
  {
   "cell_type": "code",
   "execution_count": 5,
   "metadata": {},
   "outputs": [
    {
     "data": {
      "text/html": [
       "<div>\n",
       "<style scoped>\n",
       "    .dataframe tbody tr th:only-of-type {\n",
       "        vertical-align: middle;\n",
       "    }\n",
       "\n",
       "    .dataframe tbody tr th {\n",
       "        vertical-align: top;\n",
       "    }\n",
       "\n",
       "    .dataframe thead th {\n",
       "        text-align: right;\n",
       "    }\n",
       "</style>\n",
       "<table border=\"1\" class=\"dataframe\">\n",
       "  <thead>\n",
       "    <tr style=\"text-align: right;\">\n",
       "      <th></th>\n",
       "      <th>Description</th>\n",
       "      <th>Quantitative measurement(nm)</th>\n",
       "      <th>Normalized_QM</th>\n",
       "      <th>Pred_Norm_QM</th>\n",
       "      <th>Pred_QM</th>\n",
       "      <th>Allele</th>\n",
       "    </tr>\n",
       "  </thead>\n",
       "  <tbody>\n",
       "    <tr>\n",
       "      <td>0</td>\n",
       "      <td>ADAKAAAAV</td>\n",
       "      <td>10000.00</td>\n",
       "      <td>0.148750</td>\n",
       "      <td>0.281994</td>\n",
       "      <td>2365.316638</td>\n",
       "      <td>HLA-A_0202</td>\n",
       "    </tr>\n",
       "    <tr>\n",
       "      <td>1</td>\n",
       "      <td>DPKVKQWPL</td>\n",
       "      <td>10000.00</td>\n",
       "      <td>0.148750</td>\n",
       "      <td>0.166972</td>\n",
       "      <td>8210.546426</td>\n",
       "      <td>HLA-A_0202</td>\n",
       "    </tr>\n",
       "    <tr>\n",
       "      <td>2</td>\n",
       "      <td>EADPTGHSY</td>\n",
       "      <td>10000.00</td>\n",
       "      <td>0.148750</td>\n",
       "      <td>0.070377</td>\n",
       "      <td>23349.069537</td>\n",
       "      <td>HLA-A_0202</td>\n",
       "    </tr>\n",
       "    <tr>\n",
       "      <td>3</td>\n",
       "      <td>FLNISWFYI</td>\n",
       "      <td>0.17</td>\n",
       "      <td>1.163770</td>\n",
       "      <td>0.958445</td>\n",
       "      <td>1.567707</td>\n",
       "      <td>HLA-A_0202</td>\n",
       "    </tr>\n",
       "    <tr>\n",
       "      <td>4</td>\n",
       "      <td>GLNDYLHSV</td>\n",
       "      <td>0.74</td>\n",
       "      <td>1.027829</td>\n",
       "      <td>1.018458</td>\n",
       "      <td>0.818966</td>\n",
       "      <td>HLA-A_0202</td>\n",
       "    </tr>\n",
       "    <tr>\n",
       "      <td>...</td>\n",
       "      <td>...</td>\n",
       "      <td>...</td>\n",
       "      <td>...</td>\n",
       "      <td>...</td>\n",
       "      <td>...</td>\n",
       "      <td>...</td>\n",
       "    </tr>\n",
       "    <tr>\n",
       "      <td>2822</td>\n",
       "      <td>IMAVGLVSL</td>\n",
       "      <td>0.16</td>\n",
       "      <td>1.169373</td>\n",
       "      <td>0.987948</td>\n",
       "      <td>1.139279</td>\n",
       "      <td>HLA-A_0203</td>\n",
       "    </tr>\n",
       "    <tr>\n",
       "      <td>2823</td>\n",
       "      <td>GLYPLAIPV</td>\n",
       "      <td>0.42</td>\n",
       "      <td>1.080177</td>\n",
       "      <td>1.027075</td>\n",
       "      <td>0.746064</td>\n",
       "      <td>HLA-A_0203</td>\n",
       "    </tr>\n",
       "    <tr>\n",
       "      <td>2824</td>\n",
       "      <td>LMMATIGIA</td>\n",
       "      <td>0.49</td>\n",
       "      <td>1.065930</td>\n",
       "      <td>0.995015</td>\n",
       "      <td>1.055418</td>\n",
       "      <td>HLA-A_0203</td>\n",
       "    </tr>\n",
       "    <tr>\n",
       "      <td>2825</td>\n",
       "      <td>FIRSTMSLV</td>\n",
       "      <td>0.07</td>\n",
       "      <td>1.245778</td>\n",
       "      <td>1.037128</td>\n",
       "      <td>0.669168</td>\n",
       "      <td>HLA-A_0203</td>\n",
       "    </tr>\n",
       "    <tr>\n",
       "      <td>2826</td>\n",
       "      <td>LMAAILAYT</td>\n",
       "      <td>0.84</td>\n",
       "      <td>1.016114</td>\n",
       "      <td>1.012434</td>\n",
       "      <td>0.874119</td>\n",
       "      <td>HLA-A_0203</td>\n",
       "    </tr>\n",
       "  </tbody>\n",
       "</table>\n",
       "<p>2827 rows × 6 columns</p>\n",
       "</div>"
      ],
      "text/plain": [
       "     Description  Quantitative measurement(nm)  Normalized_QM  Pred_Norm_QM  \\\n",
       "0      ADAKAAAAV                      10000.00       0.148750      0.281994   \n",
       "1      DPKVKQWPL                      10000.00       0.148750      0.166972   \n",
       "2      EADPTGHSY                      10000.00       0.148750      0.070377   \n",
       "3      FLNISWFYI                          0.17       1.163770      0.958445   \n",
       "4      GLNDYLHSV                          0.74       1.027829      1.018458   \n",
       "...          ...                           ...            ...           ...   \n",
       "2822   IMAVGLVSL                          0.16       1.169373      0.987948   \n",
       "2823   GLYPLAIPV                          0.42       1.080177      1.027075   \n",
       "2824   LMMATIGIA                          0.49       1.065930      0.995015   \n",
       "2825   FIRSTMSLV                          0.07       1.245778      1.037128   \n",
       "2826   LMAAILAYT                          0.84       1.016114      1.012434   \n",
       "\n",
       "           Pred_QM      Allele  \n",
       "0      2365.316638  HLA-A_0202  \n",
       "1      8210.546426  HLA-A_0202  \n",
       "2     23349.069537  HLA-A_0202  \n",
       "3         1.567707  HLA-A_0202  \n",
       "4         0.818966  HLA-A_0202  \n",
       "...            ...         ...  \n",
       "2822      1.139279  HLA-A_0203  \n",
       "2823      0.746064  HLA-A_0203  \n",
       "2824      1.055418  HLA-A_0203  \n",
       "2825      0.669168  HLA-A_0203  \n",
       "2826      0.874119  HLA-A_0203  \n",
       "\n",
       "[2827 rows x 6 columns]"
      ]
     },
     "execution_count": 5,
     "metadata": {},
     "output_type": "execute_result"
    }
   ],
   "source": [
    "df_allpred = pd.read_csv('/raid/hly/PK-3[2018PLOS]/no_spec_mass/pred_true/predresults_noMS_1.csv')\n",
    "df_allpred"
   ]
  },
  {
   "cell_type": "code",
   "execution_count": 6,
   "metadata": {},
   "outputs": [
    {
     "data": {
      "text/plain": [
       "0.8205870829806448"
      ]
     },
     "execution_count": 6,
     "metadata": {},
     "output_type": "execute_result"
    }
   ],
   "source": [
    "# 计算R2\n",
    "from sklearn.metrics import r2_score\n",
    "import pandas as pd\n",
    "# df_allpred_1 = pd.read_csv('/raid/hly/PK-3[2018PLOS]/2ndexpt(trainvaltest)/predresults_class1_2nd.csv')\n",
    "\n",
    "y_true = df_allpred['Normalized_QM'].to_list()\n",
    "y_pred = df_allpred['Pred_Norm_QM'].to_list()\n",
    "r2_score(y_true, y_pred)"
   ]
  },
  {
   "cell_type": "code",
   "execution_count": 8,
   "metadata": {},
   "outputs": [
    {
     "data": {
      "text/plain": [
       "Text(0, 0.5, 'y_true')"
      ]
     },
     "execution_count": 8,
     "metadata": {},
     "output_type": "execute_result"
    },
    {
     "data": {
      "image/png": "[encoded data removed]",
      "text/plain": [
       "<Figure size 432x288 with 1 Axes>"
      ]
     },
     "metadata": {
      "needs_background": "light"
     },
     "output_type": "display_data"
    }
   ],
   "source": [
    "import matplotlib.pyplot as plt\n",
    "\n",
    "plt.scatter(y_true,y_pred)\n",
    "#plt.title('测试集活性值的预测值与真实值')\n",
    "x = np.linspace(0, 2)\n",
    "plt.plot(x, x)\n",
    "plt.xlabel('y_pred')\n",
    "plt.ylabel('y_true')\n",
    "# plt.savefig"
   ]
  },
  {
   "cell_type": "code",
   "execution_count": 6,
   "metadata": {},
   "outputs": [
    {
     "data": {
      "text/plain": [
       "0.9267466225335701"
      ]
     },
     "execution_count": 6,
     "metadata": {},
     "output_type": "execute_result"
    }
   ],
   "source": [
    "# 计算 Pearson r\n",
    "y_true = df_allpred['Normalized_QM'].to_list()\n",
    "y_pred = df_allpred['Pred_Norm_QM'].to_list()\n",
    "PCC(y_true, y_pred)"
   ]
  },
  {
   "cell_type": "code",
   "execution_count": 7,
   "metadata": {},
   "outputs": [
    {
     "data": {
      "text/plain": [
       "0.7200475522377997"
      ]
     },
     "execution_count": 7,
     "metadata": {},
     "output_type": "execute_result"
    }
   ],
   "source": [
    "# 计算 tau\n",
    "y_true = df_allpred['Normalized_QM'].to_list()\n",
    "y_pred = df_allpred['Pred_Norm_QM'].to_list()\n",
    "scipy.stats.kendalltau(y_pred, y_true)[0]"
   ]
  }
 ],
 "metadata": {
  "kernelspec": {
   "display_name": "vaccin",
   "language": "python",
   "name": "python3"
  },
  "language_info": {
   "codemirror_mode": {
    "name": "ipython",
    "version": 3
   },
   "file_extension": ".py",
   "mimetype": "text/x-python",
   "name": "python",
   "nbconvert_exporter": "python",
   "pygments_lexer": "ipython3",
   "version": "3.7.0"
  },
  "orig_nbformat": 4,
  "vscode": {
   "interpreter": {
    "hash": "616f56fef8ea7183d51ad2039e0213a0ade719c1a48fd338f6185e7423826c67"
   }
  }
 },
 "nbformat": 4,
 "nbformat_minor": 2
}
