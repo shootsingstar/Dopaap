{
 "cells": [
  {
   "cell_type": "code",
   "execution_count": 1,
   "metadata": {},
   "outputs": [],
   "source": [
    "import os\n",
    "import pandas as pd"
   ]
  },
  {
   "cell_type": "markdown",
   "metadata": {},
   "source": [
    "把工具预测的结果进行统一处理"
   ]
  },
  {
   "cell_type": "code",
   "execution_count": 3,
   "metadata": {},
   "outputs": [],
   "source": [
    "import numpy as np\n",
    "\n",
    "tools_prediction_data_directory = '/mnt/zt/Dopaap/calculate_webtools_score/HLA-I_dataset/web_tools_prediction_group_by_allele'\n",
    "processed_for_calculate_dir = '/mnt/zt/Dopaap/calculate_webtools_score/HLA-I_dataset/processed_for_calculate'\n",
    "\n",
    "tools_prediction_columns_modify_dict = {\n",
    "    'SMM': 'smm',\n",
    "    'SMMPMBEC': 'smmpmbec',\n",
    "    'ANN4': 'ann',\n",
    "    'NetMHCpan': 'netmhcpan_ba'\n",
    "}\n",
    "\n",
    "tools_prediction_columns = list(tools_prediction_columns_modify_dict.keys())\n",
    "\n",
    "tools_prediction_need_columns = ['allele','peptide', 'QM'] + tools_prediction_columns\n",
    "\n",
    "for file in os.listdir(tools_prediction_data_directory):\n",
    "    allele = file.split('.')[0]\n",
    "    df_tools_prediction = pd.read_csv(os.path.join(tools_prediction_data_directory, file))\n",
    "    \n",
    "    for col in tools_prediction_need_columns:\n",
    "        if col not in df_tools_prediction.columns:\n",
    "            df_tools_prediction[col] = pd.NA\n",
    "            \n",
    "    df_tools_prediction = df_tools_prediction[tools_prediction_need_columns]\n",
    "    df_tools_prediction.rename(columns=tools_prediction_columns_modify_dict, inplace=True)\n",
    "    \n",
    "    for tools_prediction in list(tools_prediction_columns_modify_dict.values()):\n",
    "        if not df_tools_prediction[tools_prediction].isna().any():\n",
    "            df_tools_prediction['Normalized_QM'] = np.maximum(1 - (np.log(df_tools_prediction['QM']) / np.log(50000)), 0.0)\n",
    "            df_tools_prediction[f'{tools_prediction}_Normalized'] = 1 - (np.log(df_tools_prediction[tools_prediction]) / np.log(50000))\n",
    "    \n",
    "    # 保存合并后的结果到 CSV 文件\n",
    "    df_tools_prediction.to_csv(f'{processed_for_calculate_dir}/{allele}.csv', index=False)\n",
    "    "
   ]
  },
  {
   "cell_type": "markdown",
   "metadata": {},
   "source": [
    "把Dopaap预测结果合并到其它工具的预测结果"
   ]
  },
  {
   "cell_type": "code",
   "execution_count": 4,
   "metadata": {},
   "outputs": [],
   "source": [
    "import pandas as pd\n",
    "import os\n",
    "\n",
    "processed_tools_prediction_data_directory = '/mnt/zt/Dopaap/calculate_webtools_score/HLA-I_dataset/processed_for_calculate'\n",
    "dopaap_retrain_pred_dict = '/mnt/zt/Dopaap/calculate_webtools_score/HLA-I_dataset/Dopaap_result/group_by_allele'\n",
    "\n",
    "for allele in os.listdir(dopaap_retrain_pred_dict):\n",
    "    df_tools_pred = pd.read_csv(os.path.join(processed_tools_prediction_data_directory, f'{allele}.csv'))\n",
    "    df_dopaap_retrain = pd.read_csv(f'{dopaap_retrain_pred_dict}/{allele}/predict_result.csv')[['Pred_Norm_QM']].rename(columns={'Pred_Norm_QM': 'Dopaap-new-super-params_IC50_Normalized'})\n",
    "    df_tools_pred['Dopaap-new-super-params_IC50_Normalized'] = df_dopaap_retrain\n",
    "    df_tools_pred.to_csv(os.path.join(processed_tools_prediction_data_directory, f'{allele}.csv'), index=False)"
   ]
  }
 ],
 "metadata": {
  "kernelspec": {
   "display_name": "molmap",
   "language": "python",
   "name": "python3"
  },
  "language_info": {
   "codemirror_mode": {
    "name": "ipython",
    "version": 3
   },
   "file_extension": ".py",
   "mimetype": "text/x-python",
   "name": "python",
   "nbconvert_exporter": "python",
   "pygments_lexer": "ipython3",
   "version": "3.7.12"
  }
 },
 "nbformat": 4,
 "nbformat_minor": 2
}
