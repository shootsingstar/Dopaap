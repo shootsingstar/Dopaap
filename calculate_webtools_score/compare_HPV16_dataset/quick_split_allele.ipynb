{
 "cells": [
  {
   "cell_type": "code",
   "execution_count": 1,
   "metadata": {},
   "outputs": [],
   "source": [
    "import pandas as pd\n",
    "\n",
    "def clean_allele_filename(filename):\n",
    "    return filename.replace('/', '&').replace('*', '_').replace(':', '')\n",
    "\n",
    "out_dir = '/mnt/zt/Dopaap/calculate_webtools_score/compare_HPV16_dataset/web_tools_prediction_group_by_allele'\n",
    "\n",
    "df_hpv16_webtools = pd.read_csv('/mnt/zt/Dopaap/calculate_webtools_score/compare_HPV16_dataset/original_hpv_predictions.csv')\n",
    "\n",
    "for allele, group in df_hpv16_webtools.groupby('allele'):\n",
    "    # 处理allele文件名\n",
    "    cleaned_allele = clean_allele_filename(allele)\n",
    "    group['allele'] = cleaned_allele\n",
    "    group.to_csv(f'{out_dir}/{cleaned_allele}.csv', index=False)\n"
   ]
  },
  {
   "cell_type": "markdown",
   "metadata": {},
   "source": [
    "把第一列无用列去掉，把allele特殊字符规范化"
   ]
  },
  {
   "cell_type": "code",
   "execution_count": 3,
   "metadata": {},
   "outputs": [],
   "source": [
    "import os\n",
    "\n",
    "df_dir = '/mnt/zt/Dopaap/calculate_webtools_score/compare_HPV16_dataset/hpv16_benchmark_groupby_allele'\n",
    "\n",
    "for file in os.listdir(df_dir):\n",
    "    if file.endswith('.csv'):\n",
    "        allele = file.split('.')[0]\n",
    "        df_allele = pd.read_csv(f'{df_dir}/{file}')\n",
    "        df_allele['allele'] = allele\n",
    "        df_allele = df_allele.iloc[:, 1:]\n",
    "        df_allele.to_csv(f'{df_dir}/{file}', index=False)\n",
    "        "
   ]
  }
 ],
 "metadata": {
  "kernelspec": {
   "display_name": "molmap",
   "language": "python",
   "name": "python3"
  },
  "language_info": {
   "codemirror_mode": {
    "name": "ipython",
    "version": 3
   },
   "file_extension": ".py",
   "mimetype": "text/x-python",
   "name": "python",
   "nbconvert_exporter": "python",
   "pygments_lexer": "ipython3",
   "version": "3.7.-1"
  }
 },
 "nbformat": 4,
 "nbformat_minor": 2
}
