{
 "cells": [
  {
   "cell_type": "code",
   "execution_count": 5,
   "metadata": {},
   "outputs": [],
   "source": [
    "import pandas as pd\n",
    "import numpy as np\n",
    "import os\n",
    "from sklearn.metrics import r2_score\n",
    "from sklearn.metrics import mean_absolute_error\n",
    "from sklearn.metrics import mean_squared_error\n",
    "import scipy.stats\n",
    "\n",
    "processed_tools_prediction_data_directory = '/mnt/zt/Dopaap/calculate_webtools_score/new_released/iedb_tools_predict_data_processed'\n",
    "dopaap_retrain_pred_dict = '/mnt/zt/Dopaap/calculate_webtools_score/new_released/dopaap_retrain_pred_2021'\n",
    "\n",
    "allele_list = [allele for allele in os.listdir(processed_tools_prediction_data_directory) if f'{allele}_results.csv' in os.listdir(f'{dopaap_retrain_pred_dict}')]\n",
    "\n",
    "for allele in allele_list:\n",
    "    df_tools_pred = pd.read_csv(os.path.join(processed_tools_prediction_data_directory, allele, 'tools_processed.csv'))\n",
    "    df_dopaap_retrain = pd.read_csv(f'{dopaap_retrain_pred_dict}/{allele}_results.csv')[['Description', 'Pred_Norm_QM']].rename(columns={'Description': 'peptide', 'Pred_Norm_QM': 'Dopaap-retrain_IC50_Normalized'})\n",
    "    \n",
    "    df_combined = pd.concat([df_tools_pred, df_dopaap_retrain], axis=1)\n",
    "    df_combined.to_csv(os.path.join(processed_tools_prediction_data_directory, allele, 'tools_processed.csv'), index=False)"
   ]
  }
 ],
 "metadata": {
  "kernelspec": {
   "display_name": "molmap",
   "language": "python",
   "name": "python3"
  },
  "language_info": {
   "codemirror_mode": {
    "name": "ipython",
    "version": 3
   },
   "file_extension": ".py",
   "mimetype": "text/x-python",
   "name": "python",
   "nbconvert_exporter": "python",
   "pygments_lexer": "ipython3",
   "version": "3.7.12"
  }
 },
 "nbformat": 4,
 "nbformat_minor": 2
}
