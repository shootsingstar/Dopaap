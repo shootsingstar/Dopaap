{
 "cells": [
  {
   "cell_type": "code",
   "execution_count": 30,
   "metadata": {},
   "outputs": [],
   "source": [
    "import os\n",
    "import pandas as pd"
   ]
  },
  {
   "cell_type": "markdown",
   "metadata": {},
   "source": [
    "iedb tools 每次只能预测定长度的多肽，将每个allele下的各个长度多肽的预测结果合并"
   ]
  },
  {
   "cell_type": "code",
   "execution_count": 5,
   "metadata": {},
   "outputs": [],
   "source": [
    "# Specify the directory path\n",
    "original_directory = '/mnt/zt/Dopaap/calculate_webtools_score/new_released/iedb_tools_original_predict_data'\n",
    "output_directory = '/mnt/zt/Dopaap/calculate_webtools_score/new_released/iedb_tools_predict_data_processed'\n",
    "\n",
    "# Get a list of all subdirectories in the original_directory\n",
    "subdirectories = [subdir for subdir in os.listdir(original_directory) if os.path.isdir(os.path.join(original_directory, subdir))]\n",
    "\n",
    "# Iterate over each subdirectory\n",
    "for subdir in subdirectories:\n",
    "    subdir_path = os.path.join(original_directory, subdir)\n",
    "    \n",
    "    # Initialize a DataFrame to merge data into\n",
    "    merged_data = pd.DataFrame()\n",
    "    \n",
    "    # Get a list of all CSV files in the subdirectory\n",
    "    csv_files = [file for file in os.listdir(subdir_path) if file.endswith('.csv')]\n",
    "    \n",
    "    # Iterate over each CSV file and merge its data into the DataFrame\n",
    "    for file in csv_files:\n",
    "        file_path = os.path.join(subdir_path, file)\n",
    "        data = pd.read_csv(file_path)\n",
    "        merged_data = pd.concat([merged_data, data])\n",
    "    \n",
    "    # Save the merged data to a new CSV file\n",
    "    merged_data.drop_duplicates(inplace=True)\n",
    "    merged_data.reset_index(drop=True, inplace=True)\n",
    "    out_sub_dir = os.path.join(output_directory, subdir)\n",
    "    os.makedirs(out_sub_dir, exist_ok=True)\n",
    "    out_file_path = os.path.join(out_sub_dir, 'merged_data.csv')\n",
    "    merged_data.to_csv(out_file_path, index=False)\n"
   ]
  },
  {
   "cell_type": "markdown",
   "metadata": {},
   "source": [
    "把iedb数据库下载的实验测定值和工具预测的结果拼接在一起"
   ]
  },
  {
   "cell_type": "code",
   "execution_count": 42,
   "metadata": {},
   "outputs": [],
   "source": [
    "import numpy as np\n",
    "\n",
    "processed_iedb_data_directory = '/mnt/zt/Dopaap/processed_data/2021_MHC_I/data'\n",
    "processed_tools_prediction_data_directory = '/mnt/zt/Dopaap/calculate_webtools_score/new_released/iedb_tools_predict_data_processed'\n",
    "\n",
    "tools_prediction_columns_modify_dict = {\n",
    "    'peptide': 'Description',\n",
    "    'netmhcpan_ba IC50': 'netmhcpan_ba_IC50',\n",
    "    'ann IC50': 'ann_IC50',\n",
    "    'smmpmbec IC50': 'smmpmbec_IC50',\n",
    "    'smm IC50': 'smm_IC50',\n",
    "    'mhcflurry IC50': 'mhcflurry_IC50'\n",
    "}\n",
    "\n",
    "tools_prediction_columns = ['netmhcpan_ba_IC50', 'ann_IC50', 'smmpmbec_IC50', 'smm_IC50', 'mhcflurry_IC50']\n",
    "\n",
    "tools_prediction_need_columns = list(tools_prediction_columns_modify_dict.keys())\n",
    "allele_list = [allele for allele in os.listdir(processed_tools_prediction_data_directory) if os.path.isdir(os.path.join(processed_tools_prediction_data_directory, allele))]\n",
    "\n",
    "for allele in allele_list:\n",
    "    df_iedb_allele_QM = pd.read_csv(os.path.join(processed_iedb_data_directory,f'{allele}.csv'))\n",
    "    df_tools_prediction = pd.read_csv(os.path.join(processed_tools_prediction_data_directory, allele, 'merged_data.csv'))\n",
    "    \n",
    "    for col in tools_prediction_need_columns:\n",
    "        if col not in df_tools_prediction.columns:\n",
    "            \n",
    "            df_tools_prediction[col] = pd.NA\n",
    "            \n",
    "    df_tools_prediction = df_tools_prediction[tools_prediction_need_columns]\n",
    "    df_tools_prediction.rename(columns=tools_prediction_columns_modify_dict, inplace=True)\n",
    "    merged_df = pd.merge(df_iedb_allele_QM, df_tools_prediction, on=\"Description\", how=\"outer\").drop_duplicates()\n",
    "    \n",
    "    for tools_prediction in tools_prediction_columns:\n",
    "        if not merged_df[tools_prediction].isna().any():\n",
    "            merged_df[f'{tools_prediction}_Normalized'] = 1 - (np.log(merged_df[tools_prediction]) / np.log(50000))\n",
    "    \n",
    "    # 保存合并后的结果到 CSV 文件\n",
    "    merged_df.to_csv(f'{processed_tools_prediction_data_directory}/{allele}/tools_processed.csv', index=False)\n",
    "    "
   ]
  }
 ],
 "metadata": {
  "kernelspec": {
   "display_name": "molmap",
   "language": "python",
   "name": "python3"
  },
  "language_info": {
   "codemirror_mode": {
    "name": "ipython",
    "version": 3
   },
   "file_extension": ".py",
   "mimetype": "text/x-python",
   "name": "python",
   "nbconvert_exporter": "python",
   "pygments_lexer": "ipython3",
   "version": "3.7.12"
  }
 },
 "nbformat": 4,
 "nbformat_minor": 2
}
