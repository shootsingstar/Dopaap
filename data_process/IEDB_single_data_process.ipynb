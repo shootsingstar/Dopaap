{
 "cells": [
  {
   "cell_type": "code",
   "execution_count": 1,
   "metadata": {},
   "outputs": [],
   "source": [
    "import pandas as pd\n",
    "import numpy as np\n",
    "import os"
   ]
  },
  {
   "cell_type": "markdown",
   "metadata": {},
   "source": [
    "获取所需要的标签"
   ]
  },
  {
   "cell_type": "code",
   "execution_count": 2,
   "metadata": {},
   "outputs": [],
   "source": [
    "Epitope_header = \"Epitope\"\n",
    "Assay_header = \"Assay\"\n",
    "Reference_header = \"Reference\"\n",
    "Host_header = \"Host\"\n",
    "MHC_Restriction_header = \"MHC Restriction\"\n",
    "\n",
    "columns_ls = [\n",
    "    (Epitope_header, \"Name\"),\n",
    "    (Assay_header, \"Qualitative Measurement\"),\n",
    "    (Assay_header, \"Measurement Inequality\"),\n",
    "    (Assay_header, \"Quantitative measurement\"),\n",
    "    (Assay_header, \"Units\"),\n",
    "    (MHC_Restriction_header, \"Name\"),\n",
    "    (MHC_Restriction_header, \"Class\"),\n",
    "    (Reference_header, \"Type\"),\n",
    "    (Reference_header, \"Date\"),\n",
    "    (Reference_header, \"Title\"),\n",
    "    (Assay_header, \"Method\"),\n",
    "    (Assay_header, \"Response measured\"),\n",
    "    (Host_header, \"Name\")\n",
    "]\n",
    "\n",
    "#single header file column names\n",
    "# columns_ls = ['Epitope - Name',\n",
    "#  'Assay - Qualitative Measurement',\n",
    "#  'Assay - Measurement Inequality',\n",
    "#  'Assay - Quantitative measurement',\n",
    "#  'Assay - Units',\n",
    "#  'MHC Restriction - Name',\n",
    "#  'MHC Restriction - Class',\n",
    "# #  'Type',\n",
    "#  'Reference - Date',\n",
    "# #  'Title',\n",
    "# #  'Method/Technique',\n",
    "#  'Assay - Response measured',\n",
    "#  'Host - Name']\n",
    "\n",
    "new_columns_ls = [\n",
    "    'Description',\n",
    "    'Qualitative Measure',\n",
    "    'Measurement Inequality',\n",
    "    'Quantitative measurement',\n",
    "    'Units',\n",
    "    'Allele Name',\n",
    "    'MHC allele class',\n",
    "    'Ref Type',\n",
    "    'Ref Date',\n",
    "    'Ref Title',\n",
    "    'Assay Method',\n",
    "    'Assay Group',\n",
    "    'Host Name'\n",
    "]\n",
    "\n",
    " # 输入与输出路径\n",
    "original_data = '/mnt/zt/Dopaap/original_data/mhc_ligand_full.csv'\n",
    "column_filter = '/mnt/zt/Dopaap/processed_data/mhc_ligand_full_column_filter.csv'"
   ]
  },
  {
   "cell_type": "code",
   "execution_count": 3,
   "metadata": {},
   "outputs": [
    {
     "name": "stderr",
     "output_type": "stream",
     "text": [
      "/mnt/zt/Anaconda3/envs/molmap/lib/python3.7/site-packages/IPython/core/interactiveshell.py:3257: DtypeWarning: Columns (6,12,13,14,17,18,19,20,21,22,23,24,25,26,27,28,29,30,33,34,35,36,37,38,39,40,41,42,45,46,47,48,49,50,51,52,53,54,55,56,57,60,61,62,63,64,65,66,67,68,70,71,72,73,74,75,76,79,80,81,82,83,84,85,86,87,88,89,92,95,100,101,102,103,104,105,106,109) have mixed types.Specify dtype option on import or set low_memory=False.\n",
      "  interactivity=interactivity, compiler=compiler, result=result)\n"
     ]
    }
   ],
   "source": [
    "# 单表头数据header=0,双表头数据header=[0, 1]\n",
    "df = pd.read_csv(original_data, header=[0, 1])"
   ]
  },
  {
   "cell_type": "code",
   "execution_count": 4,
   "metadata": {},
   "outputs": [],
   "source": [
    "# 获取原始文件中需要的标签。存至processed_data/column_filter”\n",
    "df_need = df[columns_ls]\n",
    "df_need.columns = [new_columns_ls]\n",
    "df_need.to_csv(column_filter, index=False)"
   ]
  },
  {
   "cell_type": "markdown",
   "metadata": {},
   "source": [
    "删除不需要的数据"
   ]
  },
  {
   "cell_type": "code",
   "execution_count": 5,
   "metadata": {},
   "outputs": [
    {
     "name": "stderr",
     "output_type": "stream",
     "text": [
      "/mnt/zt/Anaconda3/envs/molmap/lib/python3.7/site-packages/IPython/core/interactiveshell.py:3257: DtypeWarning: Columns (2,4) have mixed types.Specify dtype option on import or set low_memory=False.\n",
      "  interactivity=interactivity, compiler=compiler, result=result)\n"
     ]
    }
   ],
   "source": [
    "#读取文件\n",
    "df_all = pd.read_csv('/mnt/zt/Dopaap/processed_data/mhc_ligand_full_column_filter.csv')"
   ]
  },
  {
   "cell_type": "code",
   "execution_count": 6,
   "metadata": {},
   "outputs": [],
   "source": [
    "desired_host = ['Homo sapiens (human)', 'human (Homo sapiens)']\n",
    "assay_groups_to_remove = [\n",
    "    '3D structure', '50% dissociation temperature', 'half life',\n",
    "    'off rate', 'on rate', 'qualitative binding'\n",
    "]\n",
    "measurement_inequalities_to_remove = ['>', '<', '>=', '<=']\n",
    "\n",
    "# 筛选出host为人类的条目--Homo sapiens (human) 或 human（Homo sapiens）\n",
    "is_human_host = df_all['Host Name'].isin(desired_host)\n",
    "\n",
    "# 筛选出有测量标签的数值，即保留 'Quantitative measurement' 列不为空的列\n",
    "has_quantitative_measurement = df_all['Quantitative measurement'].notnull()\n",
    "\n",
    "# 保留规范化的多肽序列（不含符号且不含 'B X J Z'），删除序列含有 '-' 或 ' ' 的行\n",
    "is_valid_peptide_sequence = ~df_all['Description'].str.contains('-| |B|X|J|Z', regex=True, na=False)\n",
    "\n",
    "# 筛选出精确的 allele name（含 'HLA'，':'）\n",
    "is_precise_allele_name = df_all['Allele Name'].str.contains('HLA') & df_all['Allele Name'].str.contains(\":\")\n",
    "\n",
    "# 排除 'Assay Group' 列不为 “KD”及 “IC50”，“EC50” 相关的条目，如包含特定值（'3D structure' 等）\n",
    "is_relevant_assay_group = ~df_all['Assay Group'].isin(assay_groups_to_remove)\n",
    "\n",
    "# 保留 'Units' 列为 'nM'，'Measurement Inequality' 列不包含特定值（'>', '<', '>=', '<='）的行\n",
    "is_valid_measurement = (df_all['Units'] == 'nM') & ~df_all['Measurement Inequality'].isin(measurement_inequalities_to_remove)\n",
    "\n",
    "# 保留 'Quantitative measurement' 列值小于等于 50000 的行\n",
    "is_low_measurement = df_all['Quantitative measurement'] <= 50000\n",
    "\n",
    "# 最后，排除 'Ref Title' 列为特定值 'Quantitating T cell cross-reactivity for unrelated peptide antigens.' 的行\n",
    "is_not_specific_ref_title = df_all['Ref Title'] != 'Quantitating T cell cross-reactivity for unrelated peptide antigens.'\n",
    "\n",
    "# 应用所有条件来过滤数据框\n",
    "df_desired = df_all[\n",
    "    is_human_host &\n",
    "    has_quantitative_measurement &\n",
    "    is_valid_peptide_sequence &\n",
    "    is_precise_allele_name &\n",
    "    is_relevant_assay_group &\n",
    "    is_valid_measurement &\n",
    "    is_low_measurement &\n",
    "    is_not_specific_ref_title\n",
    "]\n"
   ]
  },
  {
   "cell_type": "code",
   "execution_count": 7,
   "metadata": {},
   "outputs": [],
   "source": [
    "#重置索引\n",
    "df_desired = df_desired.reset_index(drop = True)\n",
    "# 添加一列，计算 Description 列的长度\n",
    "df_desired['Description_Length'] = df_desired['Description'].str.len()\n",
    "# 数据标准化 【1-log10(IC50)/log10(50000 nM)】 ,IC50单位为nM\n",
    "df_desired[\"Normalized_QM\"] = 1 - (np.log(df_desired[\"Quantitative measurement\"]) / np.log(50000))\n",
    "df_desired.to_csv('/mnt/zt/Dopaap/processed_data/mhc_ligand_desired_column_filter.csv', index=False) "
   ]
  },
  {
   "cell_type": "code",
   "execution_count": 8,
   "metadata": {},
   "outputs": [],
   "source": [
    "#和IEDB工具比较，由于IEDB web tool最大只支持长度14，故将peptide长度小于等于14的数据筛选出来（实际结果只去掉了一个数据，所以保持此处理方式）\n",
    "df_desired = pd.read_csv('/mnt/zt/Dopaap/processed_data/mhc_ligand_desired_column_filter.csv')\n",
    "\n",
    "# 根据 MHC allele class 分别筛选数据\n",
    "filtered_MHC_I_df = df_desired[df_desired['MHC allele class'] == 'I']\n",
    "filtered_MHC_II_df = df_desired[df_desired['MHC allele class'] == 'II']\n",
    "\n",
    "# 定义起始年份和结束年份\n",
    "start_year = 2017\n",
    "end_year = 2024\n",
    "\n",
    "# 循环处理每个年份的数据\n",
    "for year in range(start_year, end_year + 1):\n",
    "    # 筛选数据\n",
    "    filtered_df = df_desired[(df_desired['Ref Date'] >= year) & (df_desired['Description_Length'] <= 14)]\n",
    "    \n",
    "    # 写入对应的 CSV 文件\n",
    "    output_file = f'/mnt/zt/Dopaap/processed_data/mhc_ligand_{year}_desired_column_filter.csv'\n",
    "    filtered_df.to_csv(output_file, index=False)\n",
    "    \n",
    "    # 根据 MHC allele class 筛选数据并写入对应的 CSV 文件\n",
    "    for allele_class, filtered_class_df in zip(['I', 'II'], [filtered_MHC_I_df, filtered_MHC_II_df]):\n",
    "        filtered_class_df = filtered_class_df[(filtered_class_df['Ref Date'] >= year) & (filtered_class_df['Description_Length'] <= 14)]\n",
    "        output_file_class = f'/mnt/zt/Dopaap/processed_data/mhc_ligand_{year}_MHC_{allele_class}_desired_column_filter.csv'\n",
    "        filtered_class_df.to_csv(output_file_class, index=False)\n"
   ]
  },
  {
   "cell_type": "markdown",
   "metadata": {},
   "source": [
    "获得new released测试集"
   ]
  },
  {
   "cell_type": "code",
   "execution_count": 9,
   "metadata": {},
   "outputs": [],
   "source": [
    "start_year = 2017\n",
    "end_year = 2024\n",
    "\n",
    "for year in range(start_year, end_year + 1):\n",
    "    df_desired = pd.read_csv(f'/mnt/zt/Dopaap/processed_data/mhc_ligand_{year}_MHC_I_desired_column_filter.csv')\n",
    "    out_dir = f'/mnt/zt/Dopaap/processed_data/{year}_MHC_I/data'\n",
    "    os.makedirs(out_dir, exist_ok=True)\n",
    "    for name, group in df_desired.groupby('Allele Name') :\n",
    "        # 替换符号，如将/替换成&\n",
    "        name = name.replace('/', '&')\n",
    "        name = name.replace('*','_')\n",
    "        name = name.replace(':','')\n",
    "        group.to_csv(f'{out_dir}/{name}.csv', index=False)"
   ]
  },
  {
   "cell_type": "code",
   "execution_count": 10,
   "metadata": {},
   "outputs": [],
   "source": [
    "# 统计\n",
    "start_year = 2017\n",
    "end_year = 2024\n",
    "\n",
    "#统计了各数据集的条目数，多肽长度的最值，活性值最值，标准化活性值的最值。\n",
    "for year in range(start_year, end_year + 1):\n",
    "    files_dir = f'/mnt/zt/Dopaap/processed_data/{year}_MHC_I/data'\n",
    "    files = os.listdir(files_dir)\n",
    "    statistic = []\n",
    "    for file in files:\n",
    "        df = pd.read_csv(os.path.join(files_dir,file))\n",
    "        file_name = file.split('.')[0]\n",
    "        # 条目数\n",
    "        pep_num = len(df)\n",
    "\n",
    "        #多肽长度范围\n",
    "        pep_len_min = min(map(len,df['Description']))\n",
    "        pep_len_max = max(map(len,df['Description']))\n",
    "\n",
    "        #QM范围\n",
    "        QM_min = min(df['Quantitative measurement'])\n",
    "        QM_max = max(df['Quantitative measurement'])\n",
    "        \n",
    "        #log_QM范围\n",
    "        Normalized_QM_min = min(df['Normalized_QM'])\n",
    "        Normalized_QM_max = max(df['Normalized_QM'])\n",
    "\n",
    "        statistic.append([file_name,pep_num,pep_len_min,pep_len_max,QM_min,QM_max,Normalized_QM_min,Normalized_QM_max])\n",
    "    df_stt = pd.DataFrame(statistic,columns=['HLA-allele','pep_num','pep_len_min','pep_len_max','QM_min','QM_max','Normalized_QM_min','Normalized_QM_max'])\n",
    "    df_stt.sort_values(by='pep_num',axis=0,ascending=False, inplace=True)\n",
    "    df_stt = df_stt.reset_index(drop = True)\n",
    "    df_stt.to_csv(f'/mnt/zt/Dopaap/processed_data/{year}_MHC_I/statistics.csv', index=False)\n"
   ]
  }
 ],
 "metadata": {
  "kernelspec": {
   "display_name": "Python 3.6.13 ('vaccin': conda)",
   "language": "python",
   "name": "python3"
  },
  "language_info": {
   "codemirror_mode": {
    "name": "ipython",
    "version": 3
   },
   "file_extension": ".py",
   "mimetype": "text/x-python",
   "name": "python",
   "nbconvert_exporter": "python",
   "pygments_lexer": "ipython3",
   "version": "3.7.12"
  },
  "orig_nbformat": 4,
  "vscode": {
   "interpreter": {
    "hash": "616f56fef8ea7183d51ad2039e0213a0ade719c1a48fd338f6185e7423826c67"
   }
  }
 },
 "nbformat": 4,
 "nbformat_minor": 2
}
